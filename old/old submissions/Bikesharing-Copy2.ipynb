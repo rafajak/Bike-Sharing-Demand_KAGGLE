{
 "cells": [
  {
   "cell_type": "markdown",
   "metadata": {},
   "source": [
    "1. Intro about the data\n",
    "2. Data import and exploration (train) [take ideas from my github] - remember about outliers\n",
    "3. Data preprocessing (one-hot, regularisation, etc)\n",
    "4. Feature engineering\n",
    "5. Model selection and Rationale\n",
    "5.1. Shallow learning\n",
    "5.2. Deep learning (see tensorflow models I did for andrew as an inspiration)\n",
    "\n",
    "6. Compare results with the leaderboard, submit results."
   ]
  },
  {
   "cell_type": "markdown",
   "metadata": {},
   "source": [
    "#### Ideas: \n",
    "    - [DONE] Consider converting time to a continuous variable that'd take into account that 00:01 is closer to 23:59 than to 00:10 ( test accuracy with and without it)\n",
    "    \n",
    "    - Consider doing the deep learning spiel in a separate file, using a preprocessed data achieved in this file (prob more efficient for use in floydhub)\n",
    "    - Consider using tools for finding sensible parameters \n",
    "    \n",
    "    - Consider making predictions for registered an casual separately, and then combining the scores.\n",
    "    - Consider taking log of dependent variables\n",
    "    - Consider removing outliers from 'count'\n",
    "    - check if you're actually using all imported things\n",
    "    - try out random forest and other models (for comparison)\n",
    "    \n",
    "    \n",
    "    tweaks to try: \n",
    "    \n",
    "    - don't use cyclical for days of the week.\n",
    "  "
   ]
  },
  {
   "cell_type": "markdown",
   "metadata": {},
   "source": [
    "#### 1. Introduction"
   ]
  },
  {
   "cell_type": "code",
   "execution_count": 1,
   "metadata": {
    "collapsed": true
   },
   "outputs": [],
   "source": [
    "import numpy as np\n",
    "import pandas as pd\n",
    "import matplotlib.pyplot as plt\n",
    "import seaborn as sns\n",
    "\n",
    "%matplotlib inline\n",
    "\n",
    "from sklearn.model_selection import train_test_split,GridSearchCV\n",
    "from sklearn.linear_model import LinearRegression\n",
    "import xgboost as xg\n",
    "from sklearn.ensemble import RandomForestRegressor\n"
   ]
  },
  {
   "cell_type": "markdown",
   "metadata": {},
   "source": [
    "Variables included in the data: \n",
    "\n",
    "    datetime   - hourly date + timestamp  \n",
    "    \n",
    "    season     -  1 = spring,\n",
    "                  2 = summer,\n",
    "                  3 = fall,\n",
    "                  4 = winter \n",
    "                  \n",
    "    holiday    - whether the day is considered a holiday\n",
    "    \n",
    "    workingday - whether the day is neither a weekend nor holiday\n",
    "    \n",
    "    weather    -  1: Clear, Few clouds, Partly cloudy, Partly cloudy \n",
    "                  2: Mist + Cloudy, Mist + Broken clouds, Mist + Few clouds, Mist \n",
    "                  3: Light Snow, Light Rain + Thunderstorm + Scattered clouds, Light Rain + Scattered clouds \n",
    "                 4: Heavy Rain + Ice Pallets + Thunderstorm + Mist, Snow + Fog \n",
    "                 \n",
    "    temp       - temperature in Celsius\n",
    "    \n",
    "    atemp      - \"feels like\" temperature in Celsius\n",
    "    \n",
    "    humidity   - relative humidity\n",
    "    \n",
    "    windspeed  - wind speed\n",
    "    \n",
    "    casual     - number of non-registered user rentals initiated\n",
    "    \n",
    "    registered - number of registered user rentals initiated\n",
    "    \n",
    "    count      - number of total rentals"
   ]
  },
  {
   "cell_type": "markdown",
   "metadata": {},
   "source": [
    "#### 2. Data import and exploration"
   ]
  },
  {
   "cell_type": "code",
   "execution_count": 2,
   "metadata": {
    "collapsed": true
   },
   "outputs": [],
   "source": [
    "data = pd.read_csv(\"./data/train.csv\")"
   ]
  },
  {
   "cell_type": "code",
   "execution_count": 3,
   "metadata": {},
   "outputs": [
    {
     "data": {
      "text/html": [
       "<div>\n",
       "<style>\n",
       "    .dataframe thead tr:only-child th {\n",
       "        text-align: right;\n",
       "    }\n",
       "\n",
       "    .dataframe thead th {\n",
       "        text-align: left;\n",
       "    }\n",
       "\n",
       "    .dataframe tbody tr th {\n",
       "        vertical-align: top;\n",
       "    }\n",
       "</style>\n",
       "<table border=\"1\" class=\"dataframe\">\n",
       "  <thead>\n",
       "    <tr style=\"text-align: right;\">\n",
       "      <th></th>\n",
       "      <th>datetime</th>\n",
       "      <th>season</th>\n",
       "      <th>holiday</th>\n",
       "      <th>workingday</th>\n",
       "      <th>weather</th>\n",
       "      <th>temp</th>\n",
       "      <th>atemp</th>\n",
       "      <th>humidity</th>\n",
       "      <th>windspeed</th>\n",
       "      <th>casual</th>\n",
       "      <th>registered</th>\n",
       "      <th>count</th>\n",
       "    </tr>\n",
       "  </thead>\n",
       "  <tbody>\n",
       "    <tr>\n",
       "      <th>0</th>\n",
       "      <td>2011-01-01 00:00:00</td>\n",
       "      <td>1</td>\n",
       "      <td>0</td>\n",
       "      <td>0</td>\n",
       "      <td>1</td>\n",
       "      <td>9.84</td>\n",
       "      <td>14.395</td>\n",
       "      <td>81</td>\n",
       "      <td>0.0</td>\n",
       "      <td>3</td>\n",
       "      <td>13</td>\n",
       "      <td>16</td>\n",
       "    </tr>\n",
       "    <tr>\n",
       "      <th>1</th>\n",
       "      <td>2011-01-01 01:00:00</td>\n",
       "      <td>1</td>\n",
       "      <td>0</td>\n",
       "      <td>0</td>\n",
       "      <td>1</td>\n",
       "      <td>9.02</td>\n",
       "      <td>13.635</td>\n",
       "      <td>80</td>\n",
       "      <td>0.0</td>\n",
       "      <td>8</td>\n",
       "      <td>32</td>\n",
       "      <td>40</td>\n",
       "    </tr>\n",
       "    <tr>\n",
       "      <th>2</th>\n",
       "      <td>2011-01-01 02:00:00</td>\n",
       "      <td>1</td>\n",
       "      <td>0</td>\n",
       "      <td>0</td>\n",
       "      <td>1</td>\n",
       "      <td>9.02</td>\n",
       "      <td>13.635</td>\n",
       "      <td>80</td>\n",
       "      <td>0.0</td>\n",
       "      <td>5</td>\n",
       "      <td>27</td>\n",
       "      <td>32</td>\n",
       "    </tr>\n",
       "    <tr>\n",
       "      <th>3</th>\n",
       "      <td>2011-01-01 03:00:00</td>\n",
       "      <td>1</td>\n",
       "      <td>0</td>\n",
       "      <td>0</td>\n",
       "      <td>1</td>\n",
       "      <td>9.84</td>\n",
       "      <td>14.395</td>\n",
       "      <td>75</td>\n",
       "      <td>0.0</td>\n",
       "      <td>3</td>\n",
       "      <td>10</td>\n",
       "      <td>13</td>\n",
       "    </tr>\n",
       "    <tr>\n",
       "      <th>4</th>\n",
       "      <td>2011-01-01 04:00:00</td>\n",
       "      <td>1</td>\n",
       "      <td>0</td>\n",
       "      <td>0</td>\n",
       "      <td>1</td>\n",
       "      <td>9.84</td>\n",
       "      <td>14.395</td>\n",
       "      <td>75</td>\n",
       "      <td>0.0</td>\n",
       "      <td>0</td>\n",
       "      <td>1</td>\n",
       "      <td>1</td>\n",
       "    </tr>\n",
       "  </tbody>\n",
       "</table>\n",
       "</div>"
      ],
      "text/plain": [
       "              datetime  season  holiday  workingday  weather  temp   atemp  \\\n",
       "0  2011-01-01 00:00:00       1        0           0        1  9.84  14.395   \n",
       "1  2011-01-01 01:00:00       1        0           0        1  9.02  13.635   \n",
       "2  2011-01-01 02:00:00       1        0           0        1  9.02  13.635   \n",
       "3  2011-01-01 03:00:00       1        0           0        1  9.84  14.395   \n",
       "4  2011-01-01 04:00:00       1        0           0        1  9.84  14.395   \n",
       "\n",
       "   humidity  windspeed  casual  registered  count  \n",
       "0        81        0.0       3          13     16  \n",
       "1        80        0.0       8          32     40  \n",
       "2        80        0.0       5          27     32  \n",
       "3        75        0.0       3          10     13  \n",
       "4        75        0.0       0           1      1  "
      ]
     },
     "execution_count": 3,
     "metadata": {},
     "output_type": "execute_result"
    }
   ],
   "source": [
    "data.head()\n"
   ]
  },
  {
   "cell_type": "markdown",
   "metadata": {},
   "source": [
    "#### 3. Preprocessing and feature extraction"
   ]
  },
  {
   "cell_type": "markdown",
   "metadata": {},
   "source": [
    "   \n",
    "\n",
    "Let's import the train and test datasets."
   ]
  },
  {
   "cell_type": "code",
   "execution_count": 4,
   "metadata": {
    "collapsed": true
   },
   "outputs": [],
   "source": [
    "train_df = pd.read_csv(\"./data/train.csv\") \n",
    "test_df = pd.read_csv(\"./data/test.csv\") \n",
    "combined_df = [train_df, test_df] #combined datasets - I'll use this in loops replacing values in both datasets "
   ]
  },
  {
   "cell_type": "markdown",
   "metadata": {},
   "source": [
    "Let's look at descriptive statistics of this dataset to see if there are any outliers, or data that seems to be erroneous entries."
   ]
  },
  {
   "cell_type": "code",
   "execution_count": 5,
   "metadata": {},
   "outputs": [
    {
     "data": {
      "text/html": [
       "<div>\n",
       "<style>\n",
       "    .dataframe thead tr:only-child th {\n",
       "        text-align: right;\n",
       "    }\n",
       "\n",
       "    .dataframe thead th {\n",
       "        text-align: left;\n",
       "    }\n",
       "\n",
       "    .dataframe tbody tr th {\n",
       "        vertical-align: top;\n",
       "    }\n",
       "</style>\n",
       "<table border=\"1\" class=\"dataframe\">\n",
       "  <thead>\n",
       "    <tr style=\"text-align: right;\">\n",
       "      <th></th>\n",
       "      <th>season</th>\n",
       "      <th>holiday</th>\n",
       "      <th>workingday</th>\n",
       "      <th>weather</th>\n",
       "      <th>temp</th>\n",
       "      <th>atemp</th>\n",
       "      <th>humidity</th>\n",
       "      <th>windspeed</th>\n",
       "      <th>casual</th>\n",
       "      <th>registered</th>\n",
       "      <th>count</th>\n",
       "    </tr>\n",
       "  </thead>\n",
       "  <tbody>\n",
       "    <tr>\n",
       "      <th>count</th>\n",
       "      <td>10886.000000</td>\n",
       "      <td>10886.000000</td>\n",
       "      <td>10886.000000</td>\n",
       "      <td>10886.000000</td>\n",
       "      <td>10886.00000</td>\n",
       "      <td>10886.000000</td>\n",
       "      <td>10886.000000</td>\n",
       "      <td>10886.000000</td>\n",
       "      <td>10886.000000</td>\n",
       "      <td>10886.000000</td>\n",
       "      <td>10886.000000</td>\n",
       "    </tr>\n",
       "    <tr>\n",
       "      <th>mean</th>\n",
       "      <td>2.506614</td>\n",
       "      <td>0.028569</td>\n",
       "      <td>0.680875</td>\n",
       "      <td>1.418427</td>\n",
       "      <td>20.23086</td>\n",
       "      <td>23.655084</td>\n",
       "      <td>61.886460</td>\n",
       "      <td>12.799395</td>\n",
       "      <td>36.021955</td>\n",
       "      <td>155.552177</td>\n",
       "      <td>191.574132</td>\n",
       "    </tr>\n",
       "    <tr>\n",
       "      <th>std</th>\n",
       "      <td>1.116174</td>\n",
       "      <td>0.166599</td>\n",
       "      <td>0.466159</td>\n",
       "      <td>0.633839</td>\n",
       "      <td>7.79159</td>\n",
       "      <td>8.474601</td>\n",
       "      <td>19.245033</td>\n",
       "      <td>8.164537</td>\n",
       "      <td>49.960477</td>\n",
       "      <td>151.039033</td>\n",
       "      <td>181.144454</td>\n",
       "    </tr>\n",
       "    <tr>\n",
       "      <th>min</th>\n",
       "      <td>1.000000</td>\n",
       "      <td>0.000000</td>\n",
       "      <td>0.000000</td>\n",
       "      <td>1.000000</td>\n",
       "      <td>0.82000</td>\n",
       "      <td>0.760000</td>\n",
       "      <td>0.000000</td>\n",
       "      <td>0.000000</td>\n",
       "      <td>0.000000</td>\n",
       "      <td>0.000000</td>\n",
       "      <td>1.000000</td>\n",
       "    </tr>\n",
       "    <tr>\n",
       "      <th>25%</th>\n",
       "      <td>2.000000</td>\n",
       "      <td>0.000000</td>\n",
       "      <td>0.000000</td>\n",
       "      <td>1.000000</td>\n",
       "      <td>13.94000</td>\n",
       "      <td>16.665000</td>\n",
       "      <td>47.000000</td>\n",
       "      <td>7.001500</td>\n",
       "      <td>4.000000</td>\n",
       "      <td>36.000000</td>\n",
       "      <td>42.000000</td>\n",
       "    </tr>\n",
       "    <tr>\n",
       "      <th>50%</th>\n",
       "      <td>3.000000</td>\n",
       "      <td>0.000000</td>\n",
       "      <td>1.000000</td>\n",
       "      <td>1.000000</td>\n",
       "      <td>20.50000</td>\n",
       "      <td>24.240000</td>\n",
       "      <td>62.000000</td>\n",
       "      <td>12.998000</td>\n",
       "      <td>17.000000</td>\n",
       "      <td>118.000000</td>\n",
       "      <td>145.000000</td>\n",
       "    </tr>\n",
       "    <tr>\n",
       "      <th>75%</th>\n",
       "      <td>4.000000</td>\n",
       "      <td>0.000000</td>\n",
       "      <td>1.000000</td>\n",
       "      <td>2.000000</td>\n",
       "      <td>26.24000</td>\n",
       "      <td>31.060000</td>\n",
       "      <td>77.000000</td>\n",
       "      <td>16.997900</td>\n",
       "      <td>49.000000</td>\n",
       "      <td>222.000000</td>\n",
       "      <td>284.000000</td>\n",
       "    </tr>\n",
       "    <tr>\n",
       "      <th>max</th>\n",
       "      <td>4.000000</td>\n",
       "      <td>1.000000</td>\n",
       "      <td>1.000000</td>\n",
       "      <td>4.000000</td>\n",
       "      <td>41.00000</td>\n",
       "      <td>45.455000</td>\n",
       "      <td>100.000000</td>\n",
       "      <td>56.996900</td>\n",
       "      <td>367.000000</td>\n",
       "      <td>886.000000</td>\n",
       "      <td>977.000000</td>\n",
       "    </tr>\n",
       "  </tbody>\n",
       "</table>\n",
       "</div>"
      ],
      "text/plain": [
       "             season       holiday    workingday       weather         temp  \\\n",
       "count  10886.000000  10886.000000  10886.000000  10886.000000  10886.00000   \n",
       "mean       2.506614      0.028569      0.680875      1.418427     20.23086   \n",
       "std        1.116174      0.166599      0.466159      0.633839      7.79159   \n",
       "min        1.000000      0.000000      0.000000      1.000000      0.82000   \n",
       "25%        2.000000      0.000000      0.000000      1.000000     13.94000   \n",
       "50%        3.000000      0.000000      1.000000      1.000000     20.50000   \n",
       "75%        4.000000      0.000000      1.000000      2.000000     26.24000   \n",
       "max        4.000000      1.000000      1.000000      4.000000     41.00000   \n",
       "\n",
       "              atemp      humidity     windspeed        casual    registered  \\\n",
       "count  10886.000000  10886.000000  10886.000000  10886.000000  10886.000000   \n",
       "mean      23.655084     61.886460     12.799395     36.021955    155.552177   \n",
       "std        8.474601     19.245033      8.164537     49.960477    151.039033   \n",
       "min        0.760000      0.000000      0.000000      0.000000      0.000000   \n",
       "25%       16.665000     47.000000      7.001500      4.000000     36.000000   \n",
       "50%       24.240000     62.000000     12.998000     17.000000    118.000000   \n",
       "75%       31.060000     77.000000     16.997900     49.000000    222.000000   \n",
       "max       45.455000    100.000000     56.996900    367.000000    886.000000   \n",
       "\n",
       "              count  \n",
       "count  10886.000000  \n",
       "mean     191.574132  \n",
       "std      181.144454  \n",
       "min        1.000000  \n",
       "25%       42.000000  \n",
       "50%      145.000000  \n",
       "75%      284.000000  \n",
       "max      977.000000  "
      ]
     },
     "execution_count": 5,
     "metadata": {},
     "output_type": "execute_result"
    }
   ],
   "source": [
    "train_df.describe()"
   ]
  },
  {
   "cell_type": "code",
   "execution_count": 6,
   "metadata": {
    "collapsed": true
   },
   "outputs": [],
   "source": [
    "# The relative humidity level seems odd and is suggestive of presence of outliers. I'll look into this later."
   ]
  },
  {
   "cell_type": "code",
   "execution_count": 7,
   "metadata": {
    "scrolled": true
   },
   "outputs": [
    {
     "name": "stdout",
     "output_type": "stream",
     "text": [
      "<class 'pandas.core.frame.DataFrame'>\n",
      "RangeIndex: 10886 entries, 0 to 10885\n",
      "Data columns (total 12 columns):\n",
      "datetime      10886 non-null object\n",
      "season        10886 non-null int64\n",
      "holiday       10886 non-null int64\n",
      "workingday    10886 non-null int64\n",
      "weather       10886 non-null int64\n",
      "temp          10886 non-null float64\n",
      "atemp         10886 non-null float64\n",
      "humidity      10886 non-null int64\n",
      "windspeed     10886 non-null float64\n",
      "casual        10886 non-null int64\n",
      "registered    10886 non-null int64\n",
      "count         10886 non-null int64\n",
      "dtypes: float64(3), int64(8), object(1)\n",
      "memory usage: 1020.6+ KB\n",
      "________________________________________\n",
      "<class 'pandas.core.frame.DataFrame'>\n",
      "RangeIndex: 6493 entries, 0 to 6492\n",
      "Data columns (total 9 columns):\n",
      "datetime      6493 non-null object\n",
      "season        6493 non-null int64\n",
      "holiday       6493 non-null int64\n",
      "workingday    6493 non-null int64\n",
      "weather       6493 non-null int64\n",
      "temp          6493 non-null float64\n",
      "atemp         6493 non-null float64\n",
      "humidity      6493 non-null int64\n",
      "windspeed     6493 non-null float64\n",
      "dtypes: float64(3), int64(5), object(1)\n",
      "memory usage: 456.6+ KB\n"
     ]
    }
   ],
   "source": [
    "train_df.info()\n",
    "print('_'*40)\n",
    "test_df.info()"
   ]
  },
  {
   "cell_type": "markdown",
   "metadata": {},
   "source": [
    "Excellent, no missing data!"
   ]
  },
  {
   "cell_type": "markdown",
   "metadata": {},
   "source": [
    "Before we go on and transform the data, let's run a Pearson correlation matrix to see if there are any bivariate correlations worth looking into in more detail."
   ]
  },
  {
   "cell_type": "code",
   "execution_count": 8,
   "metadata": {
    "scrolled": true
   },
   "outputs": [
    {
     "data": {
      "text/plain": [
       "<matplotlib.axes._subplots.AxesSubplot at 0x119c9b978>"
      ]
     },
     "execution_count": 8,
     "metadata": {},
     "output_type": "execute_result"
    },
    {
     "data": {
      "image/png": "[encoded data removed]",
      "text/plain": [
       "<matplotlib.figure.Figure at 0x10d8606d8>"
      ]
     },
     "metadata": {},
     "output_type": "display_data"
    }
   ],
   "source": [
    "corr = train_df.corr(method='pearson')\n",
    "sns.heatmap(corr, \n",
    "            xticklabels=corr.columns.values,\n",
    "            yticklabels=corr.columns.values)"
   ]
  },
  {
   "cell_type": "markdown",
   "metadata": {},
   "source": [
    "As one might expect, count of bike-users correlates with air temperature (and \"feels like\"-temperature), humidity (which is itself highly correlated with the categorical variable describing the weather)."
   ]
  },
  {
   "cell_type": "markdown",
   "metadata": {},
   "source": [
    "Let's look at some of the variables individually to understand the data better and see if there are any outliers"
   ]
  },
  {
   "cell_type": "markdown",
   "metadata": {},
   "source": [
    "(A) datetime"
   ]
  },
  {
   "cell_type": "code",
   "execution_count": 9,
   "metadata": {
    "scrolled": true
   },
   "outputs": [
    {
     "data": {
      "text/plain": [
       "0    2011-01-01 00:00:00\n",
       "1    2011-01-01 01:00:00\n",
       "2    2011-01-01 02:00:00\n",
       "3    2011-01-01 03:00:00\n",
       "4    2011-01-01 04:00:00\n",
       "Name: datetime, dtype: object"
      ]
     },
     "execution_count": 9,
     "metadata": {},
     "output_type": "execute_result"
    }
   ],
   "source": [
    "train_df[\"datetime\"].head()"
   ]
  },
  {
   "cell_type": "markdown",
   "metadata": {},
   "source": [
    "The format of the datetime variable is not suitable for analysis - let's use pandas to extract days of the month/week, years, and hours from it.\n",
    "\n",
    "Additionally, I'll encode hours, months, and days of the week to preserve their cyclical nature. \n",
    "I got this idea from https://datascience.stackexchange.com/questions/5990/what-is-a-good-way-to-transform-cyclic-ordinal-attributes\n",
    "  "
   ]
  },
  {
   "cell_type": "code",
   "execution_count": 10,
   "metadata": {
    "collapsed": true
   },
   "outputs": [],
   "source": [
    "for df in combined_df:\n",
    "    date = pd.DatetimeIndex(df['datetime'])\n",
    "\n",
    "    df['month'] = date.month\n",
    "    df['year'] = date.year\n",
    "    df['hour'] = date.hour\n",
    "    df['day_of_week'] = date.dayofweek\n",
    "\n",
    "    # # Let's encode hours, months, and days of the week to preserve their cyclical nature \n",
    "    df['hour_sin'] = np.sin(df.hour*(2.*np.pi/24))\n",
    "    df['hour_cos'] = np.cos(df.hour*(2.*np.pi/24))\n",
    "\n",
    "    df['dow_sin'] = np.sin(df.day_of_week*(2.*np.pi/7))\n",
    "    df['dow_cos'] = np.cos(df.day_of_week*(2.*np.pi/7))\n",
    "\n",
    "    df['month_sin'] = np.sin((df.month-1)*(2.*np.pi/12))\n",
    "    df['month_cos'] = np.cos((df.month-1)*(2.*np.pi/12))\n",
    "    \n",
    "    \n",
    "\n",
    "\n",
    "    df.drop('datetime', axis = 1, inplace = True)\n"
   ]
  },
  {
   "cell_type": "markdown",
   "metadata": {},
   "source": [
    "(B) Humidity"
   ]
  },
  {
   "cell_type": "code",
   "execution_count": 11,
   "metadata": {
    "scrolled": true
   },
   "outputs": [
    {
     "data": {
      "text/plain": [
       "<matplotlib.axes._subplots.AxesSubplot at 0x11a6d01d0>"
      ]
     },
     "execution_count": 11,
     "metadata": {},
     "output_type": "execute_result"
    },
    {
     "data": {
      "image/png": "[encoded data removed]",
      "text/plain": [
       "<matplotlib.figure.Figure at 0x11a6e9cc0>"
      ]
     },
     "metadata": {},
     "output_type": "display_data"
    }
   ],
   "source": [
    "sns.distplot(train_df[\"humidity\"])\n"
   ]
  },
  {
   "cell_type": "code",
   "execution_count": 12,
   "metadata": {
    "scrolled": true
   },
   "outputs": [
    {
     "data": {
      "text/plain": [
       "<matplotlib.axes._subplots.AxesSubplot at 0x11a7e1c50>"
      ]
     },
     "execution_count": 12,
     "metadata": {},
     "output_type": "execute_result"
    },
    {
     "data": {
      "image/png": "[encoded data removed]",
      "text/plain": [
       "<matplotlib.figure.Figure at 0x1197a17b8>"
      ]
     },
     "metadata": {},
     "output_type": "display_data"
    }
   ],
   "source": [
    "sns.distplot(train_df[\"temp\"])\n"
   ]
  },
  {
   "cell_type": "code",
   "execution_count": 13,
   "metadata": {
    "scrolled": true
   },
   "outputs": [
    {
     "data": {
      "text/plain": [
       "<matplotlib.axes._subplots.AxesSubplot at 0x11aa5b2e8>"
      ]
     },
     "execution_count": 13,
     "metadata": {},
     "output_type": "execute_result"
    },
    {
     "data": {
      "image/png": "[encoded data removed]",
      "text/plain": [
       "<matplotlib.figure.Figure at 0x11aaf20b8>"
      ]
     },
     "metadata": {},
     "output_type": "display_data"
    }
   ],
   "source": [
    "sns.distplot(train_df[\"windspeed\"])\n"
   ]
  },
  {
   "cell_type": "markdown",
   "metadata": {},
   "source": [
    "Windspeed has an odd distribution. Windspeed of 0 is overrepresented in this sample, although it's generally unlikely to occur in real life [citation needed]. This may mean the device collecting the data is very insensitive to wind slower than 6km/h and assigning value of 0 to such measurements. \n",
    "\n",
    "I could imput the values for windspeed<=6, but looking back at the correlation matrix, this variable might not be particularly useful to include in the model. "
   ]
  },
  {
   "cell_type": "markdown",
   "metadata": {},
   "source": [
    "Let's explore how different months, days, and time of day influence demand. "
   ]
  },
  {
   "cell_type": "code",
   "execution_count": 14,
   "metadata": {
    "scrolled": true
   },
   "outputs": [
    {
     "data": {
      "image/png": "[encoded data removed]",
      "text/plain": [
       "<matplotlib.figure.Figure at 0x11ac79908>"
      ]
     },
     "metadata": {},
     "output_type": "display_data"
    }
   ],
   "source": [
    "g= sns.factorplot(data = train_df,\n",
    "               x = \"month\",\n",
    "               y = \"count\",\n",
    "               hue = \"weather\",\n",
    "               ) \n",
    "\n"
   ]
  },
  {
   "cell_type": "markdown",
   "metadata": {},
   "source": [
    "People are more likely to cycle during warmer months - that makes intuitive sense.\n"
   ]
  },
  {
   "cell_type": "code",
   "execution_count": 15,
   "metadata": {
    "scrolled": true
   },
   "outputs": [
    {
     "data": {
      "text/plain": [
       "<seaborn.axisgrid.FacetGrid at 0x1197ad470>"
      ]
     },
     "execution_count": 15,
     "metadata": {},
     "output_type": "execute_result"
    },
    {
     "data": {
      "image/png": "[encoded data removed]",
      "text/plain": [
       "<matplotlib.figure.Figure at 0x11b046748>"
      ]
     },
     "metadata": {},
     "output_type": "display_data"
    }
   ],
   "source": [
    "sns.factorplot(data = train_df,\n",
    "               x = \"day_of_week\",\n",
    "               y = \"count\", \n",
    "#              hue = \"weather\", #too noisy to be informative\n",
    "               ) "
   ]
  },
  {
   "cell_type": "code",
   "execution_count": 16,
   "metadata": {
    "scrolled": true
   },
   "outputs": [
    {
     "data": {
      "text/plain": [
       "<seaborn.axisgrid.FacetGrid at 0x11b011518>"
      ]
     },
     "execution_count": 16,
     "metadata": {},
     "output_type": "execute_result"
    },
    {
     "data": {
      "image/png": "[encoded data removed]",
      "text/plain": [
       "<matplotlib.figure.Figure at 0x11b035f98>"
      ]
     },
     "metadata": {},
     "output_type": "display_data"
    }
   ],
   "source": [
    "sns.factorplot(data = train_df,\n",
    "               x = \"hour\",\n",
    "               y = \"count\", \n",
    "               hue = \"weather\",\n",
    "               ) "
   ]
  },
  {
   "cell_type": "markdown",
   "metadata": {},
   "source": [
    "The peaks in demand happen during the communiting hours - I'm curious about how the demand over cyclical timeframes varies for the two casual and registered user cohorts; casual users may represent vastly different demographics and hence bike usage patterns - let's find out!"
   ]
  },
  {
   "cell_type": "code",
   "execution_count": 17,
   "metadata": {
    "scrolled": false
   },
   "outputs": [
    {
     "data": {
      "text/plain": [
       "<matplotlib.text.Text at 0x11b5f80f0>"
      ]
     },
     "execution_count": 17,
     "metadata": {},
     "output_type": "execute_result"
    },
    {
     "data": {
      "image/png": "[encoded data removed]",
      "text/plain": [
       "<matplotlib.figure.Figure at 0x11b4e4b38>"
      ]
     },
     "metadata": {},
     "output_type": "display_data"
    }
   ],
   "source": [
    "# REGISTERED USERS\n",
    "sns.factorplot(data = train_df,\n",
    "                  x = 'hour',\n",
    "                  y = \"registered\", \n",
    "                  hue = \"weather\",\n",
    "            \n",
    "               )\n",
    "\n",
    "sns.plt.title('REGISTERED USERS ONLY')\n",
    "\n",
    "\n"
   ]
  },
  {
   "cell_type": "code",
   "execution_count": 18,
   "metadata": {},
   "outputs": [
    {
     "data": {
      "text/plain": [
       "<matplotlib.text.Text at 0x11b972940>"
      ]
     },
     "execution_count": 18,
     "metadata": {},
     "output_type": "execute_result"
    },
    {
     "data": {
      "image/png": "[encoded data removed]",
      "text/plain": [
       "<matplotlib.figure.Figure at 0x11b8dc710>"
      ]
     },
     "metadata": {},
     "output_type": "display_data"
    }
   ],
   "source": [
    "g= sns.factorplot(data = train_df,\n",
    "               x = 'hour',\n",
    "               y = \"casual\",\n",
    "                hue = \"weather\"\n",
    "               ) \n",
    "(g.set(ylim=(0, train_df.registered.quantile(0.99\n",
    "                                            ))))\n",
    "\n",
    "sns.plt.title('CASUAL USERS ONLY')\n"
   ]
  },
  {
   "cell_type": "markdown",
   "metadata": {},
   "source": [
    "It appears that registered users and casual users have different usage patterns of city bikes.\n",
    "Registered users use rental bikes disproportionately more during commuting hours (7-8am and 5-7pm), whereas casual cyclists' hourly usage usage patterns are more regular, peaking between 12pm and 4pm.\n",
    "\n",
    "I think that observation in itself warrants running two separate models for casual and registered users and using the sum of the two predictions as the final 'count' dependent variable. Nonetheless, let's see if we can observe differences in usage patterns in weekly (day_of_week), monthly (month) timeframes. \n",
    "\n",
    "Additionally, we'll look at the relationship between the temperature and the demand for these two user groups. "
   ]
  },
  {
   "cell_type": "code",
   "execution_count": 19,
   "metadata": {},
   "outputs": [
    {
     "data": {
      "text/plain": [
       "<seaborn.axisgrid.PairGrid at 0x11bc5e208>"
      ]
     },
     "execution_count": 19,
     "metadata": {},
     "output_type": "execute_result"
    },
    {
     "data": {
      "image/png": "[encoded data removed]",
      "text/plain": [
       "<matplotlib.figure.Figure at 0x11bc5e128>"
      ]
     },
     "metadata": {},
     "output_type": "display_data"
    }
   ],
   "source": [
    "sns.pairplot(train_df, x_vars=['hour', 'day_of_week','month', 'temp'], y_vars='registered', diag_kind = 'hist', palette=\"Set3\", aspect=1, size=4)"
   ]
  },
  {
   "cell_type": "code",
   "execution_count": 20,
   "metadata": {
    "scrolled": true
   },
   "outputs": [
    {
     "data": {
      "text/plain": [
       "<seaborn.axisgrid.PairGrid at 0x11aa61c88>"
      ]
     },
     "execution_count": 20,
     "metadata": {},
     "output_type": "execute_result"
    },
    {
     "data": {
      "image/png": "[encoded data removed]",
      "text/plain": [
       "<matplotlib.figure.Figure at 0x11bd565f8>"
      ]
     },
     "metadata": {},
     "output_type": "display_data"
    }
   ],
   "source": [
    "sns.pairplot(train_df, x_vars=['hour', 'day_of_week','month', 'temp'], y_vars='casual', palette=\"Set3\",aspect=1, size=4)\n"
   ]
  },
  {
   "cell_type": "markdown",
   "metadata": {
    "collapsed": true
   },
   "source": [
    "Awesome! Two additional things I noticed from the comparison between the two user groups is:\n",
    "\n",
    "- There is an apparent difference between demand on workdays vs weekends (casual users appear to be more keen to cycle on the weekends than on the workdays - the reverse is true for registered users). \n",
    "- Registered users appear to be less sensitive to low temperatures (no wonder; cycling commuters are a resilient bunch!)"
   ]
  },
  {
   "cell_type": "code",
   "execution_count": 21,
   "metadata": {
    "collapsed": true
   },
   "outputs": [],
   "source": [
    "def onehot_encode(df, varlist):\n",
    "    \n",
    "        for var in varlist:\n",
    "            dummies =  pd.get_dummies(df[var], prefix=var, prefix_sep='_', dummy_na=False, columns=None, sparse=False, drop_first=False)\n",
    "            df = pd.concat([df, dummies], axis=1)\n",
    "            df.drop(var, inplace = True, axis=1)\n",
    "        return df"
   ]
  },
  {
   "cell_type": "code",
   "execution_count": 22,
   "metadata": {},
   "outputs": [],
   "source": [
    "to_onehot_encode = ['season',\n",
    "                    'weather',\n",
    "                    'year']\n",
    "\n",
    "train_df = onehot_encode(df = train_df, varlist = to_onehot_encode)\n",
    "test_df = onehot_encode(df = test_df, varlist = to_onehot_encode)"
   ]
  },
  {
   "cell_type": "markdown",
   "metadata": {},
   "source": [
    "Dropping one-hot-encoded variables and other unnecessary variables"
   ]
  },
  {
   "cell_type": "code",
   "execution_count": 23,
   "metadata": {},
   "outputs": [],
   "source": [
    "to_drop = ['atemp', 'windspeed', 'month','hour','day_of_week']\n",
    "train_df.drop(to_drop, inplace = True, axis = 1)\n",
    "test_df.drop(to_drop, inplace = True, axis = 1)"
   ]
  },
  {
   "cell_type": "code",
   "execution_count": 24,
   "metadata": {},
   "outputs": [
    {
     "data": {
      "text/plain": [
       "Index(['holiday', 'workingday', 'temp', 'humidity', 'casual', 'registered',\n",
       "       'count', 'hour_sin', 'hour_cos', 'dow_sin', 'dow_cos', 'month_sin',\n",
       "       'month_cos', 'season_1', 'season_2', 'season_3', 'season_4',\n",
       "       'weather_1', 'weather_2', 'weather_3', 'weather_4', 'year_2011',\n",
       "       'year_2012'],\n",
       "      dtype='object')"
      ]
     },
     "execution_count": 24,
     "metadata": {},
     "output_type": "execute_result"
    }
   ],
   "source": [
    "train_df.keys()"
   ]
  },
  {
   "cell_type": "code",
   "execution_count": 25,
   "metadata": {},
   "outputs": [
    {
     "data": {
      "text/plain": [
       "Index(['holiday', 'workingday', 'temp', 'humidity', 'hour_sin', 'hour_cos',\n",
       "       'dow_sin', 'dow_cos', 'month_sin', 'month_cos', 'season_1', 'season_2',\n",
       "       'season_3', 'season_4', 'weather_1', 'weather_2', 'weather_3',\n",
       "       'weather_4', 'year_2011', 'year_2012'],\n",
       "      dtype='object')"
      ]
     },
     "execution_count": 25,
     "metadata": {},
     "output_type": "execute_result"
    }
   ],
   "source": [
    "test_df.keys()"
   ]
  },
  {
   "cell_type": "markdown",
   "metadata": {},
   "source": [
    "#### 4. Modelling"
   ]
  },
  {
   "cell_type": "markdown",
   "metadata": {},
   "source": [
    "Let's now split the train data into two datasets - one containing dependent features we want to predict (Y) and the other one containing our independent features only (X). After that I'll split these into train and validation sets using sklearn's train_test_split."
   ]
  },
  {
   "cell_type": "code",
   "execution_count": 26,
   "metadata": {},
   "outputs": [],
   "source": [
    "\n",
    "Y = train_df[[\"count\",\"registered\",\"casual\"]]\n",
    "X = train_df.drop([\"count\",\"registered\",\"casual\"], axis = 1)\n",
    "\n",
    "\n",
    "#I'll use these for measuring accuracy of the models \n",
    "X_train, X_validate, y_train, y_validate = train_test_split(train_df.drop([\"count\",\"registered\",\"casual\"], axis = 1),train_df[[\"count\",\"registered\",\"casual\"]], test_size=0.3, random_state=2)\n"
   ]
  },
  {
   "cell_type": "markdown",
   "metadata": {},
   "source": [
    "Models to be used...\n",
    "\n",
    "I'll test the following classifiers:\n",
    "\n",
    "    [DONE] Linear regression\n",
    "    Random forest \n",
    "    xgboost\n",
    "\n",
    "    Neural network (tensorflow)\n",
    "    \n",
    "    \n",
    "\n",
    "\n"
   ]
  },
  {
   "cell_type": "code",
   "execution_count": 27,
   "metadata": {
    "collapsed": true
   },
   "outputs": [],
   "source": [
    "def rmsle(h, y): \n",
    "    \"\"\"\n",
    "    Compute the Root Mean Squared Log Error for hypthesis h and targets y\n",
    "\n",
    "    Args:\n",
    "        h - numpy array containing predictions with shape (n_samples, n_targets)\n",
    "        y - numpy array containing targets with shape (n_samples, n_targets)\n",
    "    \"\"\"\n",
    "    return np.sqrt(np.square(np.log(h + 1) - np.log(y + 1)).mean())\n",
    "\n",
    "# Source: https://www.kaggle.com/wiki/RootMeanSquaredLogarithmicError\n"
   ]
  },
  {
   "cell_type": "markdown",
   "metadata": {},
   "source": [
    "I'm guessing it's unlikely there's a clear linear relationship between the independent variables and the dependent variable, but let's start off with running a linear regression model."
   ]
  },
  {
   "cell_type": "code",
   "execution_count": 29,
   "metadata": {},
   "outputs": [
    {
     "name": "stdout",
     "output_type": "stream",
     "text": [
      "LINEAR REGRESSION\n",
      "----------------------------------------\n",
      "RMSLE Value For Linear Regression In Training:  0.986860776176\n",
      "RMSLE Value For Linear Regression In Validation:  0.971157745763\n"
     ]
    },
    {
     "name": "stderr",
     "output_type": "stream",
     "text": [
      "/Users/raf/anaconda/lib/python3.6/site-packages/ipykernel_launcher.py:9: RuntimeWarning: invalid value encountered in log\n",
      "  if __name__ == '__main__':\n"
     ]
    }
   ],
   "source": [
    "reg_casual = LinearRegression()\n",
    "reg_registered = LinearRegression()\n",
    "\n",
    "reg_casual.fit(X = X_train, y = y_train['casual'])\n",
    "reg_registered.fit(X = X_train, y = y_train['registered'])\n",
    "\n",
    "# Make predictions for total count ('count') based on a sum of predicted casual and registered users\n",
    "preds_t = reg_registered.predict(X= X_train) + reg_casual.predict(X= X_train)\n",
    "preds_v = reg_registered.predict(X= X_validate) + reg_casual.predict(X= X_validate)\n",
    "\n",
    "print (\"LINEAR REGRESSION\\n\"+\"-\"*40)\n",
    "print (\"RMSLE Value For Linear Regression In Training: \",rmsle(preds_t,y_train['count']))\n",
    "print (\"RMSLE Value For Linear Regression In Validation: \",rmsle(y_validate['count'],preds_v))\n"
   ]
  },
  {
   "cell_type": "markdown",
   "metadata": {},
   "source": [
    "I guess that's an okay good result for a linear regression model in this context, but still nowhere near the kind of score I should be aiming at."
   ]
  },
  {
   "cell_type": "code",
   "execution_count": 81,
   "metadata": {},
   "outputs": [
    {
     "name": "stdout",
     "output_type": "stream",
     "text": [
      "RMSLE Train:  2.8466396824\n",
      "RMSLE Validation:  2.85450376984\n"
     ]
    }
   ],
   "source": [
    "# LEADERSHIP SCORE: 0.41\n",
    "##### THIS IS THE ONE\n",
    "xg_casual = xg.XGBRegressor(max_depth=8,min_child_weight=4,gamma=0,colsample_bytree=0.9,subsample=0.9) \n",
    "xg_registered = xg.XGBRegressor(max_depth=8,min_child_weight=4,gamma=0,colsample_bytree=0.9,subsample=0.9) \n",
    "\n",
    "\n",
    "\n",
    "xg_casual.fit(X = X_train, y = np.log1p(y_train['casual']))\n",
    "xg_registered.fit(X = X_train, y = np.log1p(y_train['registered']))\n",
    "\n",
    "\n",
    "\n",
    "preds_t =  xg_registered.predict(X_train) + xg_casual.predict(X_train) \n",
    "preds_v =  xg_registered.predict(X_validate) + xg_casual.predict(X_validate)\n",
    "\n",
    "\n",
    "print (\"RMSLE Train: \",rmsle(np.exp(preds_t),np.exp(np.log1p(y_train['count']))))\n",
    "print (\"RMSLE Validation: \",rmsle(np.exp(preds_v),np.exp(np.log1p(y_validate['count']))))\n",
    "\n",
    "\n",
    "\n",
    "test_pred1 = (np.exp(xg_casual.predict(test_df)) + np.exp(xg_registered.predict(test_df)))\n",
    "\n",
    "df = pd.read_csv(\"./data/test.csv\")['datetime']\n",
    "df = pd.DataFrame({'datetime':df, 'count':test_pred1})\n",
    "\n",
    "df.to_csv('submission_test4', index = False, columns=['datetime','count'])\n",
    "\n",
    "\n"
   ]
  },
  {
   "cell_type": "code",
   "execution_count": 72,
   "metadata": {},
   "outputs": [],
   "source": [
    "test_pred1 = (np.exp(xg_casual.predict(test_df))+np.exp(xg_registered.predict(test_df)))\n",
    "\n",
    "df = pd.read_csv(\"./data/test.csv\")['datetime']\n",
    "df = pd.DataFrame({'datetime':df, 'count':test_pred1})\n",
    "\n",
    "df.to_csv('submission_test4', index = False, columns=['datetime','count'])"
   ]
  },
  {
   "cell_type": "code",
   "execution_count": 86,
   "metadata": {},
   "outputs": [
    {
     "name": "stdout",
     "output_type": "stream",
     "text": [
      "RMSLE Train:  2.84027322725\n",
      "RMSLE Validation:  2.84290185209\n"
     ]
    }
   ],
   "source": [
    "xg_casual = RandomForestRegressor(n_estimators=1000, max_features=10)\n",
    "\n",
    "xg_registered = RandomForestRegressor(n_estimators=1000, max_features=10)\n",
    "\n",
    "\n",
    "\n",
    "\n",
    "xg_casual.fit(X = X_train, y = np.log1p(y_train['casual']))\n",
    "xg_registered.fit(X = X_train, y = np.log1p(y_train['registered']))\n",
    "\n",
    "\n",
    "\n",
    "preds_t =  xg_registered.predict(X_train) + xg_casual.predict(X_train) \n",
    "preds_v =  xg_registered.predict(X_validate) + xg_casual.predict(X_validate)\n",
    "\n",
    "\n",
    "print (\"RMSLE Train: \",rmsle(np.exp(preds_t),np.exp(np.log1p(y_train['count']))))\n",
    "print (\"RMSLE Validation: \",rmsle(np.exp(preds_v),np.exp(np.log1p(y_validate['count']))))\n",
    "\n",
    "\n",
    "\n",
    "test_pred1 = (np.exp(xg_casual.predict(test_df)) + np.exp(xg_registered.predict(test_df)))\n",
    "\n",
    "df = pd.read_csv(\"./data/test.csv\")['datetime']\n",
    "df = pd.DataFrame({'datetime':df, 'count':test_pred1})\n",
    "\n",
    "df.to_csv('submission_random_forest3', index = False, columns=['datetime','count'])\n",
    "\n",
    "\n"
   ]
  },
  {
   "cell_type": "code",
   "execution_count": 44,
   "metadata": {},
   "outputs": [],
   "source": [
    "# test_pred1 = [max(0,x) for x in xg_casual.predict(test_df) + xg_registered.predict(test_df)]\n",
    "\n",
    "# df = pd.read_csv(\"./data/test.csv\")['datetime']\n",
    "# df = pd.DataFrame({'datetime':df, 'count':test_pred1})\n",
    "\n",
    "# df.to_csv('submission_20170103_1629', index = False, columns=['datetime','count'])"
   ]
  },
  {
   "cell_type": "code",
   "execution_count": 42,
   "metadata": {},
   "outputs": [],
   "source": [
    "test_pred2 = "
   ]
  },
  {
   "cell_type": "code",
   "execution_count": 43,
   "metadata": {},
   "outputs": [
    {
     "data": {
      "text/plain": [
       "[9.724741,\n",
       " 2.2755897,\n",
       " 0,\n",
       " 0,\n",
       " 0,\n",
       " 8.0336266,\n",
       " 40.455647,\n",
       " 86.866379,\n",
       " 217.11195,\n",
       " 130.97484,\n",
       " 59.248638,\n",
       " 60.542374,\n",
       " 75.501877,\n",
       " 70.925079,\n",
       " 61.953106,\n",
       " 69.474365,\n",
       " 82.305099,\n",
       " 186.72147,\n",
       " 181.24216,\n",
       " 125.23578,\n",
       " 82.385406,\n",
       " 60.576511,\n",
       " 42.088799,\n",
       " 29.302326,\n",
       " 12.97225,\n",
       " 5.7807107,\n",
       " 0,\n",
       " 0,\n",
       " 0,\n",
       " 6.445879,\n",
       " 27.902262,\n",
       " 65.588814,\n",
       " 198.79681,\n",
       " 127.58378,\n",
       " 49.50758,\n",
       " 58.797081,\n",
       " 62.944118,\n",
       " 67.53389,\n",
       " 59.192581,\n",
       " 65.752472,\n",
       " 86.354134,\n",
       " 161.32623,\n",
       " 131.95529,\n",
       " 86.884727,\n",
       " 61.82811,\n",
       " 40.41222,\n",
       " 37.455883,\n",
       " 21.158689,\n",
       " 21.684166,\n",
       " 15.196801,\n",
       " 13.025448,\n",
       " 0,\n",
       " 0,\n",
       " 0,\n",
       " 5.043644,\n",
       " 25.960598,\n",
       " 23.861973,\n",
       " 50.72184,\n",
       " 61.638954,\n",
       " 72.107979,\n",
       " 83.069595,\n",
       " 81.166817,\n",
       " 81.984795,\n",
       " 76.325974,\n",
       " 73.897392,\n",
       " 55.82975,\n",
       " 63.160759,\n",
       " 39.41679,\n",
       " 31.74188,\n",
       " 30.445311,\n",
       " 25.593071,\n",
       " 22.841717,\n",
       " 24.440966,\n",
       " 19.507326,\n",
       " 8.7103586,\n",
       " 0,\n",
       " 0,\n",
       " 1.3944683,\n",
       " 10.472314,\n",
       " 29.622847,\n",
       " 55.42305,\n",
       " 61.136871,\n",
       " 81.830208,\n",
       " 80.961266,\n",
       " 79.292496,\n",
       " 78.475182,\n",
       " 74.197914,\n",
       " 66.516174,\n",
       " 49.076462,\n",
       " 54.425327,\n",
       " 35.188168,\n",
       " 23.02091,\n",
       " 13.590374,\n",
       " 9.1285334,\n",
       " 3.4663978,\n",
       " 0,\n",
       " 0,\n",
       " 0,\n",
       " 2.886863,\n",
       " 21.498535,\n",
       " 67.610931,\n",
       " 177.98598,\n",
       " 99.466873,\n",
       " 35.331245,\n",
       " 37.453964,\n",
       " 52.06279,\n",
       " 54.416336,\n",
       " 44.333275,\n",
       " 54.090374,\n",
       " 69.528809,\n",
       " 153.71571,\n",
       " 148.77602,\n",
       " 98.430458,\n",
       " 70.857941,\n",
       " 47.664936,\n",
       " 31.14958,\n",
       " 17.413095,\n",
       " 11.622622,\n",
       " 0.99094516,\n",
       " 0,\n",
       " 0,\n",
       " 7.2547774,\n",
       " 37.352482,\n",
       " 78.552338,\n",
       " 205.27325,\n",
       " 105.55179,\n",
       " 41.713001,\n",
       " 45.182991,\n",
       " 66.749855,\n",
       " 61.969841,\n",
       " 59.818459,\n",
       " 68.392578,\n",
       " 86.734085,\n",
       " 197.83177,\n",
       " 194.74982,\n",
       " 121.33144,\n",
       " 77.164146,\n",
       " 54.083172,\n",
       " 35.982769,\n",
       " 16.563345,\n",
       " 23.125938,\n",
       " 11.004863,\n",
       " 0,\n",
       " 3.1549327,\n",
       " 17.989538,\n",
       " 44.363174,\n",
       " 157.27895,\n",
       " 51.581635,\n",
       " 20.269417,\n",
       " 20.536694,\n",
       " 22.150658,\n",
       " 22.144377,\n",
       " 20.553066,\n",
       " 16.924274,\n",
       " 66.917564,\n",
       " 107.61961,\n",
       " 78.494774,\n",
       " 171.41405,\n",
       " 145.52386,\n",
       " 113.03538,\n",
       " 82.833328,\n",
       " 58.570419,\n",
       " 44.314148,\n",
       " 28.653149,\n",
       " 12.01752,\n",
       " 4.2468762,\n",
       " 0,\n",
       " 0.546709,\n",
       " 7.0846505,\n",
       " 29.422886,\n",
       " 65.893661,\n",
       " 199.27426,\n",
       " 65.763466,\n",
       " 15.994329,\n",
       " 28.024063,\n",
       " 35.745277,\n",
       " 36.009239,\n",
       " 24.753622,\n",
       " 46.100803,\n",
       " 93.129974,\n",
       " 162.55836,\n",
       " 141.19029,\n",
       " 103.24937,\n",
       " 69.587456,\n",
       " 50.455215,\n",
       " 42.491638,\n",
       " 33.278591,\n",
       " 25.859859,\n",
       " 25.70406,\n",
       " 21.651241,\n",
       " 8.7953682,\n",
       " 1.8869286,\n",
       " 2.4249282,\n",
       " 5.1657796,\n",
       " 27.559069,\n",
       " 33.667294,\n",
       " 58.940155,\n",
       " 63.480618,\n",
       " 80.577454,\n",
       " 80.408043,\n",
       " 70.800247,\n",
       " 79.822815,\n",
       " 76.800888,\n",
       " 72.859703,\n",
       " 72.680626,\n",
       " 68.367004,\n",
       " 58.814091,\n",
       " 46.36697,\n",
       " 41.359425,\n",
       " 38.593224,\n",
       " 31.38847,\n",
       " 33.702797,\n",
       " 30.060682,\n",
       " 14.216813,\n",
       " 4.2915092,\n",
       " 0,\n",
       " 0,\n",
       " 10.474206,\n",
       " 19.499174,\n",
       " 50.503532,\n",
       " 56.987297,\n",
       " 114.10074,\n",
       " 77.686104,\n",
       " 81.353012,\n",
       " 79.35276,\n",
       " 81.352814,\n",
       " 71.920433,\n",
       " 66.854599,\n",
       " 63.674561,\n",
       " 25.3022,\n",
       " 22.994955,\n",
       " 16.326349,\n",
       " 13.573501,\n",
       " 10.831501,\n",
       " 2.9463081,\n",
       " 0,\n",
       " 0.65764517,\n",
       " 0,\n",
       " 7.3576126,\n",
       " 31.977648,\n",
       " 74.768753,\n",
       " 191.49506,\n",
       " 105.50782,\n",
       " 38.291542,\n",
       " 39.908516,\n",
       " 61.547913,\n",
       " 53.95948,\n",
       " 49.476315,\n",
       " 52.533661,\n",
       " 72.29818,\n",
       " 159.69086,\n",
       " 154.24088,\n",
       " 135.98061,\n",
       " 51.276672,\n",
       " 29.454954,\n",
       " 28.120398,\n",
       " 17.413095,\n",
       " 28.544899,\n",
       " 28.500118,\n",
       " 24.658121,\n",
       " 12.444809,\n",
       " 3.7804518,\n",
       " 2.6789598,\n",
       " 4.3298459,\n",
       " 19.679287,\n",
       " 40.229088,\n",
       " 90.215744,\n",
       " 116.22771,\n",
       " 140.86481,\n",
       " 146.62166,\n",
       " 153.36557,\n",
       " 155.76802,\n",
       " 151.85544,\n",
       " 120.44292,\n",
       " 94.861992,\n",
       " 69.572548,\n",
       " 45.502483,\n",
       " 32.682373,\n",
       " 39.451843,\n",
       " 25.270086,\n",
       " 25.270428,\n",
       " 16.331474,\n",
       " 10.759089,\n",
       " 0.79219979,\n",
       " 0,\n",
       " 3.9563489,\n",
       " 18.018356,\n",
       " 137.13704,\n",
       " 120.71582,\n",
       " 67.928604,\n",
       " 81.14032,\n",
       " 96.797714,\n",
       " 115.1796,\n",
       " 67.820541,\n",
       " 98.227592,\n",
       " 82.670914,\n",
       " 50.073277,\n",
       " 128.84465,\n",
       " 97.082184,\n",
       " 79.986206,\n",
       " 49.670223,\n",
       " 32.392708,\n",
       " 26.767439,\n",
       " 13.971987,\n",
       " 37.225056,\n",
       " 103.18532,\n",
       " 222.30159,\n",
       " 124.93312,\n",
       " 46.449249,\n",
       " 44.728596,\n",
       " 64.874657,\n",
       " 62.467896,\n",
       " 58.355961,\n",
       " 66.657501,\n",
       " 85.300636,\n",
       " 175.83806,\n",
       " 170.136,\n",
       " 100.80472,\n",
       " 80.73365,\n",
       " 56.30138,\n",
       " 36.611439,\n",
       " 17.362003,\n",
       " 8.9194546,\n",
       " 2.9406571,\n",
       " 0,\n",
       " 1.023869,\n",
       " 7.3288684,\n",
       " 32.013935,\n",
       " 98.834015,\n",
       " 213.32074,\n",
       " 124.15201,\n",
       " 48.046368,\n",
       " 56.999672,\n",
       " 72.573502,\n",
       " 75.826843,\n",
       " 67.61026,\n",
       " 80.260605,\n",
       " 95.30954,\n",
       " 211.02016,\n",
       " 199.68254,\n",
       " 130.55083,\n",
       " 83.971588,\n",
       " 59.670322,\n",
       " 43.523907,\n",
       " 24.077354,\n",
       " 10.433303,\n",
       " 4.8326511,\n",
       " 1.0791463,\n",
       " 2.5070863,\n",
       " 10.208661,\n",
       " 41.542782,\n",
       " 104.7986,\n",
       " 240.50175,\n",
       " 142.51161,\n",
       " 54.090816,\n",
       " 67.033997,\n",
       " 82.870033,\n",
       " 83.139145,\n",
       " 74.440308,\n",
       " 25.360386,\n",
       " 53.316841,\n",
       " 143.38942,\n",
       " 159.48541,\n",
       " 64.678574,\n",
       " 87.7798,\n",
       " 75.878555,\n",
       " 40.094585,\n",
       " 40.637974,\n",
       " 14.774552,\n",
       " 8.4049482,\n",
       " 4.5323863,\n",
       " 4.7999597,\n",
       " 9.8809738,\n",
       " 18.057901,\n",
       " 51.774349,\n",
       " 170.3739,\n",
       " 80.046989,\n",
       " 27.484835,\n",
       " 117.71487,\n",
       " 119.04861,\n",
       " 107.61692,\n",
       " 105.13002,\n",
       " 139.54126,\n",
       " 114.65107,\n",
       " 210.71964,\n",
       " 160.64877,\n",
       " 115.1976,\n",
       " 74.041649,\n",
       " 56.767014,\n",
       " 50.091381,\n",
       " 36.82254,\n",
       " 26.661318,\n",
       " 22.630791,\n",
       " 22.790159,\n",
       " 9.2309427,\n",
       " 1.2090659,\n",
       " 0.70495713,\n",
       " 4.7386446,\n",
       " 9.7733927,\n",
       " 27.088314,\n",
       " 49.924931,\n",
       " 102.31193,\n",
       " 120.00723,\n",
       " 147.43466,\n",
       " 150.02405,\n",
       " 147.40134,\n",
       " 164.64728,\n",
       " 166.52426,\n",
       " 149.5092,\n",
       " 113.67245,\n",
       " 73.89592,\n",
       " 56.125786,\n",
       " 48.876419,\n",
       " 55.162922,\n",
       " 43.258072,\n",
       " 35.528412,\n",
       " 41.894882,\n",
       " 33.511127,\n",
       " 17.501572,\n",
       " 6.3705564,\n",
       " 3.4868488,\n",
       " 5.5075541,\n",
       " 19.899666,\n",
       " 37.934113,\n",
       " 86.168655,\n",
       " 124.21898,\n",
       " 161.21678,\n",
       " 173.3667,\n",
       " 176.02522,\n",
       " 225.53448,\n",
       " 231.62158,\n",
       " 132.16052,\n",
       " 94.780777,\n",
       " 75.574364,\n",
       " 54.50589,\n",
       " 49.944626,\n",
       " 34.117172,\n",
       " 30.641155,\n",
       " 13.411047,\n",
       " 1.1210896,\n",
       " 0,\n",
       " 9.1058598,\n",
       " 25.532454,\n",
       " 114.8763,\n",
       " 234.36472,\n",
       " 144.97757,\n",
       " 84.883484,\n",
       " 99.021065,\n",
       " 130.59311,\n",
       " 49.103874,\n",
       " 22.780746,\n",
       " 21.206551,\n",
       " 48.333588,\n",
       " 137.74979,\n",
       " 174.55945,\n",
       " 134.23085,\n",
       " 101.54181,\n",
       " 67.057129,\n",
       " 30.018713,\n",
       " 33.618679,\n",
       " 33.618835,\n",
       " 36.220444,\n",
       " 25.403164,\n",
       " 11.875326,\n",
       " 1.9692559,\n",
       " 2.775878,\n",
       " 5.9361076,\n",
       " 11.039953,\n",
       " 34.358841,\n",
       " 49.365803,\n",
       " 119.55516,\n",
       " 144.4543,\n",
       " 187.32097,\n",
       " 187.43454,\n",
       " 184.25647,\n",
       " 192.3786,\n",
       " 187.0304,\n",
       " 180.76961,\n",
       " 126.57394,\n",
       " 93.168716,\n",
       " 67.089424,\n",
       " 40.815754,\n",
       " 34.948792,\n",
       " 20.088808,\n",
       " 20.603205,\n",
       " 14.366207,\n",
       " 9.3303432,\n",
       " 5.6411448,\n",
       " 17.097965,\n",
       " 37.034611,\n",
       " 113.31094,\n",
       " 310.17783,\n",
       " 152.71703,\n",
       " 89.006828,\n",
       " 114.27805,\n",
       " 137.45619,\n",
       " 151.57736,\n",
       " 141.47354,\n",
       " 170.01105,\n",
       " 237.74127,\n",
       " 456.18359,\n",
       " 422.67828,\n",
       " 345.34253,\n",
       " 226.23523,\n",
       " 110.44434,\n",
       " 90.38131,\n",
       " 57.522747,\n",
       " 26.678549,\n",
       " 5.6301746,\n",
       " 5.7144947,\n",
       " 3.6430507,\n",
       " 0.68729329,\n",
       " 15.72965,\n",
       " 72.573265,\n",
       " 219.81027,\n",
       " 367.25482,\n",
       " 175.33804,\n",
       " 102.09177,\n",
       " 112.13275,\n",
       " 151.18976,\n",
       " 155.82637,\n",
       " 138.88937,\n",
       " 148.51123,\n",
       " 235.804,\n",
       " 424.40353,\n",
       " 396.12308,\n",
       " 245.38474,\n",
       " 188.63411,\n",
       " 120.79321,\n",
       " 76.258209,\n",
       " 52.199821,\n",
       " 16.707029,\n",
       " 2.4845915,\n",
       " 0,\n",
       " 4.8116574,\n",
       " 7.3628516,\n",
       " 64.195198,\n",
       " 213.19331,\n",
       " 352.01978,\n",
       " 172.60339,\n",
       " 68.042938,\n",
       " 71.726357,\n",
       " 81.104774,\n",
       " 53.703438,\n",
       " 77.661324,\n",
       " 94.118851,\n",
       " 166.56946,\n",
       " 330.56488,\n",
       " 178.65282,\n",
       " 122.88449,\n",
       " 74.698189,\n",
       " 33.679436,\n",
       " 47.553127,\n",
       " 17.754923,\n",
       " 18.347277,\n",
       " 4.8067279,\n",
       " 1.8880491,\n",
       " 1.0434489,\n",
       " 2.8950555,\n",
       " 15.953923,\n",
       " 64.266235,\n",
       " 100.92056,\n",
       " 200.31691,\n",
       " 171.92653,\n",
       " 79.001923,\n",
       " 82.775497,\n",
       " 122.74771,\n",
       " 118.81017,\n",
       " 101.99291,\n",
       " 116.39734,\n",
       " 193.43681,\n",
       " 323.84955,\n",
       " 319.63196,\n",
       " 191.23077,\n",
       " 133.79434,\n",
       " 99.339409,\n",
       " 69.706154,\n",
       " 45.667961,\n",
       " 20.046432,\n",
       " 7.9955225,\n",
       " 2.0561223,\n",
       " 0,\n",
       " 0,\n",
       " 11.953568,\n",
       " 56.863945,\n",
       " 177.25706,\n",
       " 324.1088,\n",
       " 169.69594,\n",
       " 102.84029,\n",
       " 119.98137,\n",
       " 153.65343,\n",
       " 153.71724,\n",
       " 148.63545,\n",
       " 150.1279,\n",
       " 209.62096,\n",
       " 331.55453,\n",
       " 289.59723,\n",
       " 156.72412,\n",
       " 100.42702,\n",
       " 71.782898,\n",
       " 65.969948,\n",
       " 44.016075,\n",
       " 46.597061,\n",
       " 41.685345,\n",
       " 31.209126,\n",
       " 12.944712,\n",
       " 4.5143232,\n",
       " 2.8795609,\n",
       " 14.419845,\n",
       " 18.112539,\n",
       " 62.648624,\n",
       " 120.03214,\n",
       " 161.92542,\n",
       " 209.80659,\n",
       " 240.89038,\n",
       " 270.04913,\n",
       " 284.89246,\n",
       " 278.77808,\n",
       " 226.15526,\n",
       " 202.95123,\n",
       " 170.17032,\n",
       " 109.05923,\n",
       " 79.439857,\n",
       " 63.40366,\n",
       " 52.362972,\n",
       " 38.565819,\n",
       " 48.442131,\n",
       " 37.093697,\n",
       " 32.550682,\n",
       " 17.219608,\n",
       " 3.9784317,\n",
       " 8.967804,\n",
       " 13.071544,\n",
       " 33.6371,\n",
       " 101.57697,\n",
       " 157.56494,\n",
       " 192.88663,\n",
       " 216.15991,\n",
       " 232.33791,\n",
       " 250.74573,\n",
       " 236.00854,\n",
       " 194.13293,\n",
       " 180.92946,\n",
       " 144.56544,\n",
       " 104.53996,\n",
       " 70.866096,\n",
       " 46.026951,\n",
       " 36.493134,\n",
       " 35.126072,\n",
       " 18.076735,\n",
       " 6.4466295,\n",
       " 3.3742337,\n",
       " 0.040994793,\n",
       " 4.8481164,\n",
       " 49.095642,\n",
       " 180.93266,\n",
       " 310.46671,\n",
       " 138.92421,\n",
       " 91.719421,\n",
       " 103.18785,\n",
       " 136.765,\n",
       " 136.69098,\n",
       " 126.56836,\n",
       " 126.46426,\n",
       " 192.37262,\n",
       " 335.1004,\n",
       " 324.46268,\n",
       " 195.96669,\n",
       " 134.95801,\n",
       " 93.156876,\n",
       " 68.739494,\n",
       " 40.880985,\n",
       " 15.628556,\n",
       " 7.8385439,\n",
       " 4.7347374,\n",
       " 1.9477587,\n",
       " 15.173769,\n",
       " 10.38679,\n",
       " 57.094543,\n",
       " 198.83028,\n",
       " 339.99667,\n",
       " 159.5421,\n",
       " 100.44776,\n",
       " 115.24077,\n",
       " 143.34659,\n",
       " 142.27937,\n",
       " 127.62849,\n",
       " 128.46034,\n",
       " 199.14775,\n",
       " 324.93134,\n",
       " 331.80716,\n",
       " 207.81633,\n",
       " 138.03738,\n",
       " 93.128395,\n",
       " 62.3722,\n",
       " 43.272259,\n",
       " 39.272987,\n",
       " 7.7082753,\n",
       " 7.5698528,\n",
       " 1.0034761,\n",
       " 24.540564,\n",
       " 14.437958,\n",
       " 59.202438,\n",
       " 207.80151,\n",
       " 365.24823,\n",
       " 171.84752,\n",
       " 90.597633,\n",
       " 98.634727,\n",
       " 125.94238,\n",
       " 126.78057,\n",
       " 111.20699,\n",
       " 49.821518,\n",
       " 114.49064,\n",
       " 89.733704,\n",
       " 164.69037,\n",
       " 91.23278,\n",
       " 69.672523,\n",
       " 58.543835,\n",
       " 30.861233,\n",
       " 18.444622,\n",
       " 13.991916,\n",
       " 7.3166938,\n",
       " 5.0190716,\n",
       " 2.2587903,\n",
       " 5.4393888,\n",
       " 15.599595,\n",
       " 45.211494,\n",
       " 126.64088,\n",
       " 326.5242,\n",
       " 86.967911,\n",
       " 59.008308,\n",
       " 63.481667,\n",
       " 74.363983,\n",
       " 75.426567,\n",
       " 63.231258,\n",
       " 58.355495,\n",
       " 158.93825,\n",
       " 214.94615,\n",
       " 207.41272,\n",
       " 103.33945,\n",
       " 73.253204,\n",
       " 65.721107,\n",
       " 42.901497,\n",
       " 38.440613,\n",
       " 20.644215,\n",
       " 6.4250183,\n",
       " 3.6714847,\n",
       " 0,\n",
       " 0,\n",
       " 12.030428,\n",
       " 61.613674,\n",
       " 182.58749,\n",
       " 359.68219,\n",
       " 191.72461,\n",
       " 93.974762,\n",
       " 102.07472,\n",
       " 143.1131,\n",
       " 140.52841,\n",
       " 129.83704,\n",
       " 135.57863,\n",
       " 196.8333,\n",
       " 415.01907,\n",
       " 426.50519,\n",
       " 289.45459,\n",
       " 163.57912,\n",
       " 120.55748,\n",
       " 92.421951,\n",
       " 56.795624,\n",
       " 38.74704,\n",
       " 15.310125,\n",
       " 8.7449141,\n",
       " 1.4189594,\n",
       " 20.809959,\n",
       " 14.593468,\n",
       " 61.992996,\n",
       " 186.94855,\n",
       " 338.77545,\n",
       " 174.70026,\n",
       " 92.575417,\n",
       " 107.41644,\n",
       " 146.69186,\n",
       " 157.49219,\n",
       " 130.239,\n",
       " 137.57068,\n",
       " 192.14235,\n",
       " 391.4411,\n",
       " 345.15414,\n",
       " 225.34377,\n",
       " 159.41725,\n",
       " 109.66397,\n",
       " 90.365547,\n",
       " 55.353016,\n",
       " 33.373005,\n",
       " 15.245114,\n",
       " 6.3007851,\n",
       " 0,\n",
       " 15.481306,\n",
       " 8.0747852,\n",
       " 38.961021,\n",
       " 143.73862,\n",
       " 318.27637,\n",
       " 103.9194,\n",
       " 84.328964,\n",
       " 54.997803,\n",
       " 59.097836,\n",
       " 33.970966,\n",
       " 28.654533,\n",
       " 27.782082,\n",
       " 95.210312,\n",
       " 130.49962,\n",
       " 80.852417,\n",
       " 65.835571,\n",
       " 55.280834,\n",
       " 27.019054,\n",
       " 28.242048,\n",
       " 31.978714,\n",
       " 39.008091,\n",
       " 32.984741,\n",
       " 30.022312,\n",
       " 12.106829,\n",
       " 1.312206,\n",
       " 1.6709745,\n",
       " 24.694372,\n",
       " 16.044996,\n",
       " 54.248898,\n",
       " 75.732269,\n",
       " 83.255127,\n",
       " 76.366821,\n",
       " 153.95856,\n",
       " 143.44568,\n",
       " 234.38171,\n",
       " 273.26846,\n",
       " 305.37152,\n",
       " 309.31195,\n",
       " 274.5683,\n",
       " 206.14346,\n",
       " 129.48137,\n",
       " 136.76097,\n",
       " 126.96197,\n",
       " 74.378548,\n",
       " 72.597,\n",
       " 58.980835,\n",
       " 50.271713,\n",
       " 25.664719,\n",
       " 4.438158,\n",
       " 5.2452674,\n",
       " 23.227068,\n",
       " 7.4465599,\n",
       " 65.366432,\n",
       " 107.52454,\n",
       " 204.52116,\n",
       " 309.50269,\n",
       " 337.12234,\n",
       " 354.77496,\n",
       " 355.59726,\n",
       " 337.26013,\n",
       " 358.57904,\n",
       " 366.77603,\n",
       " 304.44153,\n",
       " 194.20639,\n",
       " 144.52504,\n",
       " 79.025429,\n",
       " 56.837349,\n",
       " 47.620159,\n",
       " 16.290894,\n",
       " 7.81598,\n",
       " 3.3391151,\n",
       " 0,\n",
       " 0,\n",
       " 9.6694622,\n",
       " 47.757568,\n",
       " 146.67601,\n",
       " 276.3421,\n",
       " 169.94858,\n",
       " 89.278732,\n",
       " 100.27058,\n",
       " 125.96723,\n",
       " 136.86061,\n",
       " 132.53778,\n",
       " 132.84439,\n",
       " 213.3179,\n",
       " 396.43268,\n",
       " 381.03531,\n",
       " 285.70331,\n",
       " 186.46152,\n",
       " 138.85475,\n",
       " 105.58614,\n",
       " 48.319221,\n",
       " 23.406616,\n",
       " 15.554277,\n",
       " 2.5205154,\n",
       " 0,\n",
       " 4.2544203,\n",
       " 8.1674042,\n",
       " 58.34943,\n",
       " 212.96049,\n",
       " 345.85422,\n",
       " 178.02667,\n",
       " 92.895042,\n",
       " 101.04767,\n",
       " 136.16275,\n",
       " 135.31924,\n",
       " 129.11279,\n",
       " 140.13716,\n",
       " 202.26997,\n",
       " 395.5473,\n",
       " 379.33118,\n",
       " 306.65552,\n",
       " 199.492,\n",
       " 156.11685,\n",
       " 97.235352,\n",
       " 42.642784,\n",
       " 17.856226,\n",
       " 5.205019,\n",
       " 0,\n",
       " 0,\n",
       " 2.047812,\n",
       " 10.072824,\n",
       " 61.694664,\n",
       " 167.01796,\n",
       " 307.25562,\n",
       " 161.81749,\n",
       " 73.431023,\n",
       " 81.975349,\n",
       " 102.45654,\n",
       " 110.46358,\n",
       " 106.83702,\n",
       " 122.74674,\n",
       " 186.81128,\n",
       " 315.50897,\n",
       " 314.95679,\n",
       " 287.84747,\n",
       " 175.92105,\n",
       " 119.26692,\n",
       " 77.179359,\n",
       " 40.902775,\n",
       " 29.5825,\n",
       " 6.2864237,\n",
       " 2.5836625,\n",
       " 8.0977249,\n",
       " 4.6959844,\n",
       " 25.266319,\n",
       " 72.623528,\n",
       " 213.80513,\n",
       " 347.23837,\n",
       " 116.97122,\n",
       " 80.466156,\n",
       " 96.35688,\n",
       " 110.57253,\n",
       " 117.28023,\n",
       " 106.32532,\n",
       " 130.56184,\n",
       " 179.89589,\n",
       " 363.9267,\n",
       " 366.55081,\n",
       " 257.52515,\n",
       " 187.84326,\n",
       " 141.22005,\n",
       " 114.49184,\n",
       " 75.282478,\n",
       " 54.742203,\n",
       " 24.89028,\n",
       " 10.065691,\n",
       " 7.00494,\n",
       " 20.922634,\n",
       " 18.338623,\n",
       " 57.978275,\n",
       " 206.70277,\n",
       " 372.88425,\n",
       " 195.49597,\n",
       " 129.30153,\n",
       " 158.91534,\n",
       " 181.23195,\n",
       " 188.93065,\n",
       " 186.8353,\n",
       " 191.25507,\n",
       " 250.65112,\n",
       " 410.85529,\n",
       " 366.83777,\n",
       " 222.10948,\n",
       " 152.93777,\n",
       " 113.99995,\n",
       " 102.36274,\n",
       " 67.356186,\n",
       " 55.820744,\n",
       " 49.709019,\n",
       " 45.689209,\n",
       " 26.978302,\n",
       " 9.4653988,\n",
       " 13.641086,\n",
       " 35.005898,\n",
       " 38.911137,\n",
       " 80.556839,\n",
       " 148.09512,\n",
       " 201.96831,\n",
       " 274.21759,\n",
       " 312.87256,\n",
       " 318.67926,\n",
       " 313.57745,\n",
       " 317.00519,\n",
       " ...]"
      ]
     },
     "execution_count": 43,
     "metadata": {},
     "output_type": "execute_result"
    }
   ],
   "source": [
    "test_pred2"
   ]
  },
  {
   "cell_type": "code",
   "execution_count": null,
   "metadata": {
    "collapsed": true
   },
   "outputs": [],
   "source": [
    "submission = pd.DataFrame({\n",
    "        \"datetime\": datetimecol,\n",
    "        \"count\": [max(0, x) for x in np.exp(predsTest)]\n",
    "    })"
   ]
  },
  {
   "cell_type": "code",
   "execution_count": null,
   "metadata": {
    "collapsed": true
   },
   "outputs": [],
   "source": [
    "    \"datetime\": datetimecol,\n",
    "        \"count\": [max(0, x) for x in np.exp(predsTest)]"
   ]
  },
  {
   "cell_type": "code",
   "execution_count": 49,
   "metadata": {},
   "outputs": [
    {
     "name": "stdout",
     "output_type": "stream",
     "text": [
      "RMSLE Train:  0.621181569141\n",
      "RMSLE Validation:  0.685748397439\n"
     ]
    },
    {
     "name": "stderr",
     "output_type": "stream",
     "text": [
      "/Users/raf/anaconda/lib/python3.6/site-packages/ipykernel_launcher.py:9: RuntimeWarning: invalid value encountered in log\n",
      "  if __name__ == '__main__':\n"
     ]
    }
   ],
   "source": [
    "#copy of the below\n",
    "xg_casual = RandomForestRegressor(max_depth=20, n_estimators=1000, max_features=10)\n",
    "\n",
    "# xg_casual = xg.XGBRegressor(max_depth=8,min_child_weight=4,gamma=0,colsample_bytree=0.9) \n",
    "# xg_registered = xg.XGBRegressor(max_depth=8,min_child_weight=4,gamma=0,colsample_bytree=0.9,subsample=0.9) \n",
    "\n",
    "\n",
    "\n",
    "xg_casual.fit(X = X_train, y = np.log1p(y_train['casual']))\n",
    "# xg_registered.fit(X = X_train, y = np.log1p(y_train['registered']))\n",
    "\n",
    "\n",
    "\n",
    "preds_t +=  xg_casual.predict(X_train) #+xg_registered.predict(X_train)\n",
    "preds_v +=  xg_casual.predict(X_validate) #+ xg_registered.predict(X_validate)\n",
    "\n",
    "\n",
    "print (\"RMSLE Train: \",rmsle(np.exp(preds_t),np.exp(np.log1p(y_train['count']))))\n",
    "print (\"RMSLE Validation: \",rmsle(np.exp(np.log1p(y_validate['count'])),np.exp(preds_v)))"
   ]
  },
  {
   "cell_type": "code",
   "execution_count": null,
   "metadata": {},
   "outputs": [],
   "source": [
    "#copy of the below\n",
    "xg_casual = RandomForestRegressor(max_depth=20, n_estimators=1000, max_features=10)\n",
    "\n",
    "# xg_casual = xg.XGBRegressor(max_depth=8,min_child_weight=4,gamma=0,colsample_bytree=0.9) \n",
    "# xg_registered = xg.XGBRegressor(max_depth=8,min_child_weight=4,gamma=0,colsample_bytree=0.9,subsample=0.9) \n",
    "\n",
    "\n",
    "\n",
    "xg_casual.fit(X = X_train, y = np.log1p(y_train['casual']))\n",
    "# xg_registered.fit(X = X_train, y = np.log1p(y_train['registered']))\n",
    "\n",
    "\n",
    "\n",
    "preds_t +=  xg_casual.predict(X_train) #+xg_registered.predict(X_train)\n",
    "preds_v +=  xg_casual.predict(X_validate) #+ xg_registered.predict(X_validate)\n",
    "\n",
    "\n",
    "print (\"RMSLE Train: \",rmsle(np.exp(preds_t),np.exp(np.log1p(y_train['count']))))\n",
    "print (\"RMSLE Validation: \",rmsle(np.exp(np.log1p(y_validate['count'])),np.exp(preds_v)))"
   ]
  },
  {
   "cell_type": "code",
   "execution_count": null,
   "metadata": {
    "collapsed": true
   },
   "outputs": [],
   "source": [
    "test_pred1 = (np.exp(xgr.predict(test_df)))\n",
    "\n",
    "df = pd.read_csv(\"./data/test.csv\")['datetime']\n",
    "df = pd.DataFrame({'datetime':df, 'count':test_pred1})\n",
    "\n",
    "df.to_csv('submission1', index = False, columns=['datetime','count'])"
   ]
  },
  {
   "cell_type": "code",
   "execution_count": null,
   "metadata": {},
   "outputs": [],
   "source": [
    "\n",
    "xgr=xg.XGBRegressor(max_depth=8,min_child_weight=4,gamma=0,colsample_bytree=0.9,subsample=0.9) #Kaggle score - 0.460\n",
    "xgr.fit(X = X_train, y = np.log1p(y_train))\n",
    "\n",
    "preds_t = xgr.predict(X_train)\n",
    "preds_v = xgr.predict(X_validate)\n",
    "print (\"RMSLE Train: \",rmsle(np.exp(preds_t),np.exp(np.log1p(y_train))))\n",
    "print (\"RMSLE Validation: \",rmsle(np.exp(np.log1p(y_validate)),np.exp(preds_v)))"
   ]
  },
  {
   "cell_type": "code",
   "execution_count": null,
   "metadata": {
    "collapsed": true
   },
   "outputs": [],
   "source": []
  },
  {
   "cell_type": "markdown",
   "metadata": {},
   "source": [
    "The xgboost achieved a sensible score of 0.460 on Kaggle, after I fiddled with the parameters a little bit. Let's save this submission and see how a random forest regressor will do in this scenario"
   ]
  },
  {
   "cell_type": "code",
   "execution_count": null,
   "metadata": {},
   "outputs": [],
   "source": [
    "test_pred1 = (np.exp(xgr.predict(test_df)))\n",
    "\n",
    "df = pd.read_csv(\"./data/test.csv\")['datetime']\n",
    "df = pd.DataFrame({'datetime':df, 'count':test_pred1})\n",
    "\n",
    "df.to_csv('submission1', index = False, columns=['datetime','count'])"
   ]
  },
  {
   "cell_type": "code",
   "execution_count": null,
   "metadata": {},
   "outputs": [],
   "source": [
    "xgr = RandomForestRegressor(max_depth=20, n_estimators=1000, max_features=10)\n",
    "xgr.fit(X = X_train, y = np.log1p(y_train))\n",
    "\n",
    "preds_t = xgr.predict(X_train)\n",
    "preds_v = xgr.predict(X_validate)\n",
    "print (\"RMSLE Train: \",rmsle(np.exp(preds_t),np.exp(np.log1p(y_train))))\n",
    "print (\"RMSLE Validation: \",rmsle(np.exp(np.log1p(y_validate)),np.exp(preds_v)))"
   ]
  },
  {
   "cell_type": "markdown",
   "metadata": {},
   "source": [
    "Random forest regressor achieved a surprisingly good result on the leaderboard 0.44959"
   ]
  },
  {
   "cell_type": "code",
   "execution_count": null,
   "metadata": {
    "collapsed": true
   },
   "outputs": [],
   "source": [
    "test_pred1 = (np.exp(xgr.predict(test_df)))\n",
    "\n",
    "dt = pd.read_csv(\"./data/test.csv\")['datetime']\n",
    "df = pd.DataFrame({'datetime':dt, 'count':test_pred1})\n",
    "\n",
    "df.to_csv('submission4', index = False, columns=['datetime','count'])"
   ]
  },
  {
   "cell_type": "markdown",
   "metadata": {},
   "source": [
    "#### 5. Conclusion"
   ]
  },
  {
   "cell_type": "markdown",
   "metadata": {},
   "source": [
    "Check to be performed with rmsle:  \n",
    "    \n"
   ]
  },
  {
   "cell_type": "markdown",
   "metadata": {
    "collapsed": true
   },
   "source": [
    "# DUMPSTER"
   ]
  },
  {
   "cell_type": "code",
   "execution_count": null,
   "metadata": {
    "collapsed": true
   },
   "outputs": [],
   "source": []
  },
  {
   "cell_type": "code",
   "execution_count": null,
   "metadata": {
    "collapsed": true
   },
   "outputs": [],
   "source": [
    "#     dataTrain  = dataTrain.drop(dropFeatures,axis=1)\n",
    "# dataTest  = dataTest.drop(dropFeatures,axis=1)\n",
    "# X_train = X_train.drop(dropFeatures,axis=1)\n",
    "# X_validate = X_validate.drop(dropFeatures,axis=1)"
   ]
  },
  {
   "cell_type": "code",
   "execution_count": null,
   "metadata": {
    "collapsed": true
   },
   "outputs": [],
   "source": [
    "# from sklearn.model_selection import GridSearchCV\n",
    "\n",
    "\n",
    "\n",
    "# xgr=xg.XGBRegressor()\n",
    "# xgr.fit(X = X_train, y = np.log1p(y_train))\n",
    "\n",
    "\n",
    "\n",
    "# parameters =[{'max_depth':[8,9,10,11,12],\n",
    "#               'min_child_weight':[4,5,6,7,8],\n",
    "#               'gamma':[i/10.0 for i in range(0,5)],\n",
    "#               'subsample':[i/10.0 for i in range(6,10)],\n",
    "#               'colsample_bytree':[i/10.0 for i in range(6,10)]}]\n",
    "             \n",
    "        \n",
    "\n",
    "\n",
    "\n",
    "# grid_search= GridSearchCV(estimator=xgr, param_grid=parameters, cv=10, n_jobs=-1)\n",
    "\n",
    "\n",
    "# print (1)\n",
    "# grid_search=grid_search.fit(X = X_train, y = np.log1p(y_train))\n",
    "# print (2)\n",
    "# best_accuracy=grid_search.best_score_\n",
    "# best_parameters=grid_search.best_params_\n",
    "# print (best_accuracy)\n",
    "# print (best_parameters)\n",
    "\n"
   ]
  },
  {
   "cell_type": "code",
   "execution_count": null,
   "metadata": {
    "collapsed": true
   },
   "outputs": [],
   "source": [
    "from sklearn.ensemble import RandomForestRegressor\n",
    "from sklearn.model_selection import GridSearchCV\n",
    "rfModel = RandomForestRegressor(n_estimators=100) ### Test 0.44\n",
    "rfModel.fit(X = X_train,y = np.log1p(y_train))\n",
    "preds = rfModel.predict(X= X_validate)\n",
    "print (\"RMSLE Value For Random Forest: \",rmsle(np.exp(np.log1p(y_validate)),np.exp(preds)))"
   ]
  },
  {
   "cell_type": "code",
   "execution_count": 59,
   "metadata": {},
   "outputs": [
    {
     "name": "stdout",
     "output_type": "stream",
     "text": [
      "RMSLE Train:  0.302707986641\n",
      "RMSLE Validation:  0.373719357378\n"
     ]
    },
    {
     "name": "stderr",
     "output_type": "stream",
     "text": [
      "/Users/raf/anaconda/lib/python3.6/site-packages/ipykernel_launcher.py:9: RuntimeWarning: invalid value encountered in log\n",
      "  if __name__ == '__main__':\n"
     ]
    }
   ],
   "source": [
    "#COPY OF THE BELOWif doesn't work- add the lg thing\n",
    "\n",
    "xg_casual = xg.XGBRegressor(max_depth=8,min_child_weight=4,gamma=0,colsample_bytree=0.9,subsample=0.9) \n",
    "xg_registered = xg.XGBRegressor(max_depth=8,min_child_weight=4,gamma=0,colsample_bytree=0.9,subsample=0.9) \n",
    "\n",
    "xg_casual.fit(X = X_train, y = y_train['casual'])\n",
    "xg_registered.fit(X = X_train, y = y_train['registered'])\n",
    "\n",
    "preds_t =  xg_registered.predict(X_train) + xg_casual.predict(X_train) \n",
    "preds_v =  xg_registered.predict(X_validate) + xg_casual.predict(X_validate)\n",
    "\n",
    "print (\"RMSLE Train: \",rmsle(preds_t,y_train['count']))\n",
    "print (\"RMSLE Validation: \",rmsle(y_validate['count'],preds_v))"
   ]
  },
  {
   "cell_type": "code",
   "execution_count": 70,
   "metadata": {},
   "outputs": [
    {
     "name": "stdout",
     "output_type": "stream",
     "text": [
      "RMSLE Train:  0.302707986641\n",
      "RMSLE Validation:  0.373719357378\n"
     ]
    },
    {
     "name": "stderr",
     "output_type": "stream",
     "text": [
      "/Users/raf/anaconda/lib/python3.6/site-packages/ipykernel_launcher.py:9: RuntimeWarning: invalid value encountered in log\n",
      "  if __name__ == '__main__':\n",
      "/Users/raf/anaconda/lib/python3.6/site-packages/ipykernel_launcher.py:22: RuntimeWarning: overflow encountered in exp\n"
     ]
    }
   ],
   "source": []
  },
  {
   "cell_type": "code",
   "execution_count": null,
   "metadata": {
    "collapsed": true
   },
   "outputs": [],
   "source": [
    "import xgboost as xg\n",
    "\n",
    "xgr1=xg.XGBRegressor(max_depth=8,min_child_weight=4,gamma=0.5,colsample_bytree=0.9,subsample=0.9)\n",
    "xgr1.fit(X = X_train, y = np.log1p(y_train))\n",
    "\n",
    "preds_t = xgr1.predict(X_train)\n",
    "preds_v = xgr1.predict(X_validate)\n",
    "print (\"RMSLE Value For Linear Regression In Training: \",rmsle(np.exp(preds_t),np.exp(np.log1p(y_train))))\n",
    "print (\"RMSLE Value For Linear Regression In Validation: \",rmsle(np.exp(np.log1p(y_validate)),np.exp(preds_v)))"
   ]
  },
  {
   "cell_type": "code",
   "execution_count": null,
   "metadata": {
    "collapsed": true
   },
   "outputs": [],
   "source": [
    "# params = {\n",
    "#     # Parameters that we are going to tune.\n",
    "#     'max_depth':6,\n",
    "#     'min_child_weight': 1,\n",
    "#     'eta':.3,\n",
    "#     'subsample': 1,\n",
    "#     'colsample_bytree': 1,\n",
    "#     'eval_metric': 'mae',\n",
    "#     # Other parameters\n",
    "#     'objective':'reg:linear'\n",
    "# }"
   ]
  },
  {
   "cell_type": "code",
   "execution_count": null,
   "metadata": {
    "collapsed": true
   },
   "outputs": [],
   "source": [
    "# num_boost_round = 999\n"
   ]
  },
  {
   "cell_type": "code",
   "execution_count": null,
   "metadata": {
    "collapsed": true,
    "scrolled": true
   },
   "outputs": [],
   "source": [
    "# LINEAR MODEL\n",
    "\n",
    "\n",
    "# from sklearn import linear_model\n",
    "# reg = linear_model.Lasso(alpha = 0.01, )\n",
    "\n",
    "# reg.fit(X = X_train, y = y_train)\n",
    "\n",
    "# # Make predictions\n",
    "# preds_t = reg.predict(X= X_train)\n",
    "# preds_v = reg.predict(X= X_validate)\n",
    "# print (\"RMSLE Value For Linear Regression In Training: \",rmsle((y_train),(preds_t)))\n",
    "# print (\"RMSLE Value For Linear Regression In Validation: \",rmsle((y_validate),(preds_v)))\n",
    "\n",
    "\n"
   ]
  },
  {
   "cell_type": "code",
   "execution_count": null,
   "metadata": {
    "collapsed": true
   },
   "outputs": [],
   "source": [
    "import xgboost as xg\n",
    "\n",
    "xgr=xg.XGBRegressor(max_depth=8,min_child_weight=4,gamma=0,colsample_bytree=0.9,subsample=0.9)\n",
    "xgr.fit(X = X_train, y = np.log1p(y_train))\n",
    "\n",
    "preds_t = xgr.predict(X_train)\n",
    "preds_v = xgr.predict(X_validate)\n",
    "print (\"RMSLE Value For Linear Regression In Training: \",rmsle(np.exp(preds_t),np.exp(np.log1p(y_train))))\n",
    "print (\"RMSLE Value For Linear Regression In Validation: \",rmsle(np.exp(np.log1p(y_validate)),np.exp(preds_v)))"
   ]
  },
  {
   "cell_type": "markdown",
   "metadata": {},
   "source": [
    "Leaderboard score: 0.47777"
   ]
  },
  {
   "cell_type": "code",
   "execution_count": null,
   "metadata": {
    "collapsed": true
   },
   "outputs": [],
   "source": [
    "\n",
    "sns.stripplot(train_df[\"day_of_week\"]+1, train_df[\"count\"], jitter=0.45,  palette=\"Set3\")"
   ]
  },
  {
   "cell_type": "code",
   "execution_count": null,
   "metadata": {
    "collapsed": true
   },
   "outputs": [],
   "source": [
    "test_pred = (np.exp(xgr.predict(test_df)))\n",
    "\n",
    "dt = pd.read_csv(\"./data/test.csv\")['datetime']\n",
    "df = pd.DataFrame({'datetime':dt, 'count':test_pred})\n",
    "\n",
    "df.to_csv('submission1', index = False, columns=['datetime','count'])"
   ]
  },
  {
   "cell_type": "code",
   "execution_count": null,
   "metadata": {
    "collapsed": true
   },
   "outputs": [],
   "source": [
    "STOP\n",
    "\n",
    "{'max_depth': 8, 'min_child_weight': 4}'''\n",
    "{'gamma': 0.0}\n",
    "{'colsample_bytree': 0.9, 'subsample': 0.9}\n"
   ]
  },
  {
   "cell_type": "code",
   "execution_count": null,
   "metadata": {
    "collapsed": true
   },
   "outputs": [],
   "source": [
    "xgr=xg.XGBRegressor(max_depth=8,min_child_weight=6,gamma=0.4)\n",
    "xgr.fit(X = X_train, y = np.log1p(y_train))\n",
    "\n",
    "\n",
    "\n",
    "# parameters=[{'max_depth':[8,9,10,11,12],'min_child_weight':[4,5,6,7,8]}]\n",
    "'''\n",
    "0.999889269652\n",
    "{'max_depth': 8, 'min_child_weight': 4}'''\n",
    "\n",
    "\n",
    "# parameters=[{'gamma':[i/10.0 for i in range(0,5)]}]\n",
    "'''\n",
    "\n",
    "0.99999526338\n",
    "{'gamma': 0.0}\n",
    "'''\n",
    "# parameters=[{'subsample':[i/10.0 for i in range(6,10)],\n",
    "# 'colsample_bytree':[i/10.0 for i in range(6,10)]}]\n",
    "\n",
    "# '''\n",
    "# 0.999770012926\n",
    "# {'colsample_bytree': 0.9, 'subsample': 0.9}\n",
    "# '''\n",
    "# grid_search= GridSearchCV(estimator=xgr, param_grid=parameters, cv=10,n_jobs=-1)\n",
    "\n",
    "\n",
    "# print (1)\n",
    "# grid_search=grid_search.fit(X = X_train, y = np.log1p(y_train))\n",
    "# print (2)\n",
    "# best_accuracy=grid_search.best_score_\n",
    "# best_parameters=grid_search.best_params_\n",
    "# print (best_accuracy)\n",
    "# print (best_parameters)\n",
    "\n"
   ]
  },
  {
   "cell_type": "code",
   "execution_count": null,
   "metadata": {
    "collapsed": true
   },
   "outputs": [],
   "source": [
    "import xgboost as xg\n",
    "\n",
    "xgr=xg.XGBRegressor(max_depth=20, n_estimators=1000, max_features=10)\n",
    "xgr.fit(X = X_train, y = np.log1p(y_train))\n",
    "\n",
    "preds_t = xgr.predict(X_train)\n",
    "preds_v = xgr.predict(X_validate)\n",
    "print (\"RMSLE Value For Linear Regression In Training: \",rmsle(np.exp(preds_t),np.exp(np.log1p(y_train))))\n",
    "print (\"RMSLE Value For Linear Regression In Validation: \",rmsle(np.exp(np.log1p(y_validate)),np.exp(preds_v)))"
   ]
  },
  {
   "cell_type": "code",
   "execution_count": null,
   "metadata": {
    "collapsed": true
   },
   "outputs": [],
   "source": [
    "test_pred6 = (np.exp(xgr.predict(test_df)))\n",
    "\n",
    "dt = pd.read_csv(\"./data/test.csv\")['datetime']\n",
    "df = pd.DataFrame({'datetime':dt, 'count':test_pred6})\n",
    "\n",
    "df.to_csv('submission6', index = False, columns=['datetime','count'])"
   ]
  },
  {
   "cell_type": "code",
   "execution_count": null,
   "metadata": {
    "collapsed": true
   },
   "outputs": [],
   "source": [
    "import xgboost as xg\n",
    "\n",
    "xgr=xg.XGBRegressor(n_estimators = 600,max_depth=6,min_child_weight=5,gamma=0,colsample_bytree=1,subsample=0.85, num_round = 600, learning_rate = 0.07)\n",
    "xgr.fit(X = X_train, y = np.log1p(y_train))\n",
    "\n",
    "preds_t = xgr.predict(X_train)\n",
    "preds_v = xgr.predict(X_validate)\n",
    "print (\"RMSLE Value For Linear Regression In Training: \",rmsle(np.exp(preds_t),np.exp(np.log1p(y_train))))\n",
    "print (\"RMSLE Value For Linear Regression In Validation: \",rmsle(np.exp(np.log1p(y_validate)),np.exp(preds_v)))"
   ]
  },
  {
   "cell_type": "markdown",
   "metadata": {},
   "source": [
    "above -> XGBOOST #3 with adjusted hyperparameters"
   ]
  },
  {
   "cell_type": "code",
   "execution_count": null,
   "metadata": {
    "collapsed": true
   },
   "outputs": [],
   "source": [
    "test_pred2 = (np.exp(xgr.predict(test_df)))\n",
    "\n",
    "dt = pd.read_csv(\"./data/test.csv\")['datetime']\n",
    "df = pd.DataFrame({'datetime':dt, 'count':test_pred2})\n",
    "\n",
    "df.to_csv('submission3', index = False, columns=['datetime','count'])"
   ]
  },
  {
   "cell_type": "code",
   "execution_count": null,
   "metadata": {
    "collapsed": true
   },
   "outputs": [],
   "source": [
    "import xgboost as xg\n",
    "\n",
    "xgr=xg.XGBRegressor(max_depth=8,min_child_weight=3,gamma=0,colsample_bytree=0.9,subsample=0.9)\n",
    "xgr.fit(X = X_train, y = np.log1p(y_train))\n",
    "\n",
    "preds_t = xgr.predict(X_train)\n",
    "preds_v = xgr.predict(X_validate)\n",
    "print (\"RMSLE Value For Linear Regression In Training: \",rmsle(np.exp(preds_t),np.exp(np.log1p(y_train))))\n",
    "print (\"RMSLE Value For Linear Regression In Validation: \",rmsle(np.exp(np.log1p(y_validate)),np.exp(preds_v)))"
   ]
  },
  {
   "cell_type": "code",
   "execution_count": null,
   "metadata": {
    "collapsed": true
   },
   "outputs": [],
   "source": [
    "import xgboost as xg\n",
    "\n",
    "xgr=xg.XGBRegressor(max_depth=8,min_child_weight=3,gamma=0,colsample_bytree=0.9,subsample=0.9)\n",
    "xgr.fit(X = X_train, y = np.log1p(y_train))\n",
    "\n",
    "preds_t = xgr.predict(X_train)\n",
    "preds_v = xgr.predict(X_validate)\n",
    "print (\"RMSLE Value For Linear Regression In Training: \",rmsle(np.exp(preds_t),np.exp(np.log1p(y_train))))\n",
    "print (\"RMSLE Value For Linear Regression In Validation: \",rmsle(np.exp(np.log1p(y_validate)),np.exp(preds_v)))"
   ]
  },
  {
   "cell_type": "code",
   "execution_count": null,
   "metadata": {
    "collapsed": true
   },
   "outputs": [],
   "source": [
    "Models to be used...\n",
    "\n",
    "I'll test the following classifiers:\n",
    "\n",
    "    [DONE] Linear regression\n",
    "    Lasso\n",
    "    Elasticnet???\n",
    "    RidgeRegression\n",
    "    SVRkernel linear\n",
    "    Ensemble regressors \n",
    "\n",
    "    xgboost\n",
    "\n",
    "    Neural network (tensorflow)\n",
    "    \n",
    "    \n",
    "But before we start training our models, let's make a helper function that will calculate the root mean squared log error scores for each of our classifiers.\n",
    "\n",
    "\n"
   ]
  },
  {
   "cell_type": "markdown",
   "metadata": {},
   "source": [
    "XGBOOST #2 with cyclical dates"
   ]
  },
  {
   "cell_type": "code",
   "execution_count": null,
   "metadata": {
    "collapsed": true
   },
   "outputs": [],
   "source": []
  },
  {
   "cell_type": "code",
   "execution_count": null,
   "metadata": {
    "collapsed": true
   },
   "outputs": [],
   "source": []
  },
  {
   "cell_type": "code",
   "execution_count": null,
   "metadata": {
    "collapsed": true
   },
   "outputs": [],
   "source": [
    "# LEADERSHIP SCORE: 0.41\n",
    "\n",
    "xg_casual = xg.XGBRegressor(max_depth=8,min_child_weight=4,gamma=0,colsample_bytree=0.9,subsample=0.9) \n",
    "xg_registered = xg.XGBRegressor(max_depth=8,min_child_weight=4,gamma=0,colsample_bytree=0.9,subsample=0.9) \n",
    "\n",
    "\n",
    "\n",
    "xg_casual.fit(X = X_train, y = np.log1p(y_train['casual']))\n",
    "xg_registered.fit(X = X_train, y = np.log1p(y_train['registered']))\n",
    "\n",
    "\n",
    "\n",
    "preds_t =  xg_registered.predict(X_train) + xg_casual.predict(X_train) \n",
    "preds_v =  xg_registered.predict(X_validate) + xg_casual.predict(X_validate)\n",
    "\n",
    "\n",
    "print (\"RMSLE Train: \",rmsle(np.exp(preds_t),np.exp(np.log1p(y_train['count']))))\n",
    "print (\"RMSLE Validation: \",rmsle(np.exp(np.log1p(y_validate['count'])),np.exp(preds_v)))\n",
    "\n",
    "\n",
    "\n",
    "test_pred1 = (np.exp(xg_casual.predict(test_df))+np.exp(xg_registered.predict(test_df)))\n",
    "\n",
    "df = pd.read_csv(\"./data/test.csv\")['datetime']\n",
    "df = pd.DataFrame({'datetime':df, 'count':test_pred1})\n",
    "\n",
    "df.to_csv('submission_test4', index = False, columns=['datetime','count'])\n",
    "\n"
   ]
  },
  {
   "cell_type": "code",
   "execution_count": null,
   "metadata": {
    "collapsed": true
   },
   "outputs": [],
   "source": [
    "xg_casual = RandomForestRegressor(n_estimators=1000, max_features=10)\n",
    "\n",
    "xg_registered = RandomForestRegressor(n_estimators=1000, max_features=10)\n",
    "\n",
    "\n",
    "\n",
    "\n",
    "xg_casual.fit(X = X_train, y = np.log1p(y_train['casual']))\n",
    "xg_registered.fit(X = X_train, y = np.log1p(y_train['registered']))\n",
    "\n",
    "\n",
    "\n",
    "preds_t =  xg_registered.predict(X_train) + xg_casual.predict(X_train) \n",
    "preds_v =  xg_registered.predict(X_validate) + xg_casual.predict(X_validate)\n",
    "\n",
    "\n",
    "print (\"RMSLE Train: \",rmsle(np.exp(preds_t),np.exp(np.log1p(y_train['count']))))\n",
    "print (\"RMSLE Validation: \",rmsle(np.exp(preds_v),np.exp(np.log1p(y_validate['count']))))\n",
    "\n",
    "\n"
   ]
  }
 ],
 "metadata": {
  "anaconda-cloud": {},
  "kernelspec": {
   "display_name": "Python 3",
   "language": "python",
   "name": "python3"
  },
  "language_info": {
   "codemirror_mode": {
    "name": "ipython",
    "version": 3
   },
   "file_extension": ".py",
   "mimetype": "text/x-python",
   "name": "python",
   "nbconvert_exporter": "python",
   "pygments_lexer": "ipython3",
   "version": "3.6.1"
  }
 },
 "nbformat": 4,
 "nbformat_minor": 1
}
